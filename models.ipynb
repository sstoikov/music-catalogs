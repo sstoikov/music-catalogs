{
 "cells": [
  {
   "cell_type": "code",
   "execution_count": 275,
   "metadata": {
    "collapsed": true
   },
   "outputs": [],
   "source": [
    "import pandas as pd\n",
    "import numpy as np\n",
    "import statsmodels.api as sm\n",
    "import matplotlib.pyplot as plt\n",
    "import math\n",
    "import random\n",
    "from datetime import date\n",
    "%matplotlib inline"
   ]
  },
  {
   "cell_type": "code",
   "execution_count": 276,
   "metadata": {
    "collapsed": true
   },
   "outputs": [],
   "source": [
    "data = pd.read_csv('data.csv')"
   ]
  },
  {
   "cell_type": "code",
   "execution_count": 402,
   "metadata": {},
   "outputs": [
    {
     "data": {
      "text/html": [
       "<div>\n",
       "<style scoped>\n",
       "    .dataframe tbody tr th:only-of-type {\n",
       "        vertical-align: middle;\n",
       "    }\n",
       "\n",
       "    .dataframe tbody tr th {\n",
       "        vertical-align: top;\n",
       "    }\n",
       "\n",
       "    .dataframe thead th {\n",
       "        text-align: right;\n",
       "    }\n",
       "</style>\n",
       "<table border=\"1\" class=\"dataframe\">\n",
       "  <thead>\n",
       "    <tr style=\"text-align: right;\">\n",
       "      <th></th>\n",
       "      <th>id</th>\n",
       "      <th>title</th>\n",
       "      <th>dollar_age</th>\n",
       "      <th>type</th>\n",
       "      <th>latest offer</th>\n",
       "      <th>date_of_revenue</th>\n",
       "      <th>total</th>\n",
       "      <th>buyNowPrice</th>\n",
       "      <th>buyNowPriceMultiple</th>\n",
       "      <th>termExpiration</th>\n",
       "    </tr>\n",
       "  </thead>\n",
       "  <tbody>\n",
       "    <tr>\n",
       "      <th>0</th>\n",
       "      <td>4762</td>\n",
       "      <td>Publishing Royalties: \"Texas Flood\"</td>\n",
       "      <td>39.05</td>\n",
       "      <td>30_year</td>\n",
       "      <td>60500.0</td>\n",
       "      <td>['2017-04-01', '2017-07-01', '2017-10-01', '20...</td>\n",
       "      <td>[2045, 0, 1993, 0, 2722, 0, 4639, 0, 2284, 0, ...</td>\n",
       "      <td>75000.0</td>\n",
       "      <td>5.46</td>\n",
       "      <td>2052-08-11</td>\n",
       "    </tr>\n",
       "    <tr>\n",
       "      <th>1</th>\n",
       "      <td>4720</td>\n",
       "      <td>Classic R&amp;B/Soul Hits &amp; \"Bittersweet\" - Songwr...</td>\n",
       "      <td>22.58</td>\n",
       "      <td>life_of_rights</td>\n",
       "      <td>18500.0</td>\n",
       "      <td>['2010-10-01', '2011-01-01', '2011-04-01', '20...</td>\n",
       "      <td>[93, 209, 114, 181, 216, 106, 193, 605, 145, 1...</td>\n",
       "      <td>24500.0</td>\n",
       "      <td>9.25</td>\n",
       "      <td>-</td>\n",
       "    </tr>\n",
       "    <tr>\n",
       "      <th>2</th>\n",
       "      <td>4740</td>\n",
       "      <td>Diverse International Catalog: R&amp;B, K-Pop, + More</td>\n",
       "      <td>3.64</td>\n",
       "      <td>life_of_rights</td>\n",
       "      <td>21950.0</td>\n",
       "      <td>['2016-10-01', '2016-11-01', '2016-12-01', '20...</td>\n",
       "      <td>[59, 0, 0, 0, 0, 0, 1531, 270, 0, 1498, 407, 3...</td>\n",
       "      <td>-1.0</td>\n",
       "      <td>-1.00</td>\n",
       "      <td>-</td>\n",
       "    </tr>\n",
       "    <tr>\n",
       "      <th>3</th>\n",
       "      <td>4749</td>\n",
       "      <td>Future, Juice WRLD &amp; Ugly God Royalties</td>\n",
       "      <td>4.04</td>\n",
       "      <td>life_of_rights</td>\n",
       "      <td>9400.0</td>\n",
       "      <td>['2018-04-01', '2018-07-01', '2018-10-01', '20...</td>\n",
       "      <td>[806, 658, 2047, 921, 694, 629, 582, 628, 463,...</td>\n",
       "      <td>-1.0</td>\n",
       "      <td>-1.00</td>\n",
       "      <td>-</td>\n",
       "    </tr>\n",
       "    <tr>\n",
       "      <th>4</th>\n",
       "      <td>4724</td>\n",
       "      <td>Dan Bremnes - Contemporary Christian Royalties</td>\n",
       "      <td>3.94</td>\n",
       "      <td>life_of_rights</td>\n",
       "      <td>5500.0</td>\n",
       "      <td>['2018-01-01', '2018-04-01', '2018-07-01', '20...</td>\n",
       "      <td>[520, 1313, 1218, 2478, 9026, 6043, 2026, 4945...</td>\n",
       "      <td>-1.0</td>\n",
       "      <td>-1.00</td>\n",
       "      <td>-</td>\n",
       "    </tr>\n",
       "  </tbody>\n",
       "</table>\n",
       "</div>"
      ],
      "text/plain": [
       "     id                                              title  dollar_age  \\\n",
       "0  4762                Publishing Royalties: \"Texas Flood\"       39.05   \n",
       "1  4720  Classic R&B/Soul Hits & \"Bittersweet\" - Songwr...       22.58   \n",
       "2  4740  Diverse International Catalog: R&B, K-Pop, + More        3.64   \n",
       "3  4749            Future, Juice WRLD & Ugly God Royalties        4.04   \n",
       "4  4724     Dan Bremnes - Contemporary Christian Royalties        3.94   \n",
       "\n",
       "             type  latest offer  \\\n",
       "0         30_year       60500.0   \n",
       "1  life_of_rights       18500.0   \n",
       "2  life_of_rights       21950.0   \n",
       "3  life_of_rights        9400.0   \n",
       "4  life_of_rights        5500.0   \n",
       "\n",
       "                                     date_of_revenue  \\\n",
       "0  ['2017-04-01', '2017-07-01', '2017-10-01', '20...   \n",
       "1  ['2010-10-01', '2011-01-01', '2011-04-01', '20...   \n",
       "2  ['2016-10-01', '2016-11-01', '2016-12-01', '20...   \n",
       "3  ['2018-04-01', '2018-07-01', '2018-10-01', '20...   \n",
       "4  ['2018-01-01', '2018-04-01', '2018-07-01', '20...   \n",
       "\n",
       "                                               total  buyNowPrice  \\\n",
       "0  [2045, 0, 1993, 0, 2722, 0, 4639, 0, 2284, 0, ...      75000.0   \n",
       "1  [93, 209, 114, 181, 216, 106, 193, 605, 145, 1...      24500.0   \n",
       "2  [59, 0, 0, 0, 0, 0, 1531, 270, 0, 1498, 407, 3...         -1.0   \n",
       "3  [806, 658, 2047, 921, 694, 629, 582, 628, 463,...         -1.0   \n",
       "4  [520, 1313, 1218, 2478, 9026, 6043, 2026, 4945...         -1.0   \n",
       "\n",
       "   buyNowPriceMultiple termExpiration  \n",
       "0                 5.46     2052-08-11  \n",
       "1                 9.25              -  \n",
       "2                -1.00              -  \n",
       "3                -1.00              -  \n",
       "4                -1.00              -  "
      ]
     },
     "execution_count": 402,
     "metadata": {},
     "output_type": "execute_result"
    }
   ],
   "source": [
    "data_multipliers = pd.read_csv('data_new_new.csv')\n",
    "data_multipliers.head()"
   ]
  },
  {
   "cell_type": "code",
   "execution_count": 403,
   "metadata": {},
   "outputs": [
    {
     "name": "stdout",
     "output_type": "stream",
     "text": [
      "['10_year', '30_year', 'life_of_rights', 'partial_10_year', 'partial_30_year']\n"
     ]
    }
   ],
   "source": [
    "a = data_multipliers['type'].unique()\n",
    "print(sorted(a))"
   ]
  },
  {
   "cell_type": "code",
   "execution_count": 404,
   "metadata": {},
   "outputs": [
    {
     "name": "stdout",
     "output_type": "stream",
     "text": [
      "484\n",
      "195\n",
      "2\n",
      "31\n",
      "53\n",
      "202\n"
     ]
    }
   ],
   "source": [
    "print(len(data))\n",
    "print(len(data[data['type']=='partial_10_year']))\n",
    "print(len(data[data['type']=='10_year']))\n",
    "print(len(data[data['type']=='partial_30_year']))\n",
    "print(len(data[data['type']=='30_year']))\n",
    "print(len(data[data['type']=='life_of_rights']))"
   ]
  },
  {
   "cell_type": "code",
   "execution_count": 421,
   "metadata": {
    "collapsed": true
   },
   "outputs": [],
   "source": [
    "data_10y=data_multipliers[data_multipliers['termExpiration']!='-'] \n",
    "data_10y=data_multipliers[(data_multipliers['type']=='partial_10_year') | (data_multipliers['type']=='10_year')]"
   ]
  },
  {
   "cell_type": "code",
   "execution_count": 422,
   "metadata": {},
   "outputs": [
    {
     "data": {
      "text/html": [
       "<div>\n",
       "<style scoped>\n",
       "    .dataframe tbody tr th:only-of-type {\n",
       "        vertical-align: middle;\n",
       "    }\n",
       "\n",
       "    .dataframe tbody tr th {\n",
       "        vertical-align: top;\n",
       "    }\n",
       "\n",
       "    .dataframe thead th {\n",
       "        text-align: right;\n",
       "    }\n",
       "</style>\n",
       "<table border=\"1\" class=\"dataframe\">\n",
       "  <thead>\n",
       "    <tr style=\"text-align: right;\">\n",
       "      <th></th>\n",
       "      <th>id</th>\n",
       "      <th>title</th>\n",
       "      <th>dollar_age</th>\n",
       "      <th>type</th>\n",
       "      <th>latest offer</th>\n",
       "      <th>date_of_revenue</th>\n",
       "      <th>total</th>\n",
       "      <th>buyNowPrice</th>\n",
       "      <th>buyNowPriceMultiple</th>\n",
       "      <th>termExpiration</th>\n",
       "    </tr>\n",
       "  </thead>\n",
       "  <tbody>\n",
       "    <tr>\n",
       "      <th>7</th>\n",
       "      <td>4732</td>\n",
       "      <td>NLE Choppa, BlocBoy, + More - Songwriter Royal...</td>\n",
       "      <td>3.58</td>\n",
       "      <td>10_year</td>\n",
       "      <td>9500.0</td>\n",
       "      <td>['2012-01-01', '2012-04-01', '2012-07-01', '20...</td>\n",
       "      <td>[98, 15, 9, 9, 5, 0, 0, 0, 213, 0, 0, 0, 137, ...</td>\n",
       "      <td>13000.00</td>\n",
       "      <td>5.91</td>\n",
       "      <td>2032-08-11</td>\n",
       "    </tr>\n",
       "    <tr>\n",
       "      <th>8</th>\n",
       "      <td>4733</td>\n",
       "      <td>NLE Choppa, Layton Greene, Blocboy + More</td>\n",
       "      <td>3.39</td>\n",
       "      <td>10_year</td>\n",
       "      <td>7777.0</td>\n",
       "      <td>['2012-01-01', '2012-04-01', '2012-07-01', '20...</td>\n",
       "      <td>[98, 15, 9, 9, 5, 0, 0, 0, 213, 0, 0, 0, 101, ...</td>\n",
       "      <td>13000.00</td>\n",
       "      <td>6.63</td>\n",
       "      <td>2032-08-11</td>\n",
       "    </tr>\n",
       "    <tr>\n",
       "      <th>20</th>\n",
       "      <td>4750</td>\n",
       "      <td>Hip-Hop Songwriter Royalties Feat. DaBaby</td>\n",
       "      <td>2.26</td>\n",
       "      <td>partial_10_year</td>\n",
       "      <td>-1.0</td>\n",
       "      <td>['2019-10-01', '2020-01-01', '2020-04-01', '20...</td>\n",
       "      <td>[8, 2, 46292, 14700, 20161, 12335, 11465, 1047...</td>\n",
       "      <td>-1.00</td>\n",
       "      <td>-1.00</td>\n",
       "      <td>2032-07-25</td>\n",
       "    </tr>\n",
       "    <tr>\n",
       "      <th>22</th>\n",
       "      <td>3704</td>\n",
       "      <td>Streaming-Driven Hip-Hop From RiFF RAFF</td>\n",
       "      <td>5.62</td>\n",
       "      <td>partial_10_year</td>\n",
       "      <td>2957.0</td>\n",
       "      <td>['2016-04-01', '2016-07-01', '2016-10-01', '20...</td>\n",
       "      <td>[848, 868, 471, 639, 483, 399, 350, 468, 354, ...</td>\n",
       "      <td>2998.93</td>\n",
       "      <td>6.61</td>\n",
       "      <td>2029-07-27</td>\n",
       "    </tr>\n",
       "    <tr>\n",
       "      <th>40</th>\n",
       "      <td>4458</td>\n",
       "      <td>Migos “First 48” Publishing Royalties</td>\n",
       "      <td>6.58</td>\n",
       "      <td>partial_10_year</td>\n",
       "      <td>4500.0</td>\n",
       "      <td>['2015-10-01', '2016-01-01', '2016-04-01', '20...</td>\n",
       "      <td>[1075, 487, 397, 659, 331, 4888, 463, 507, 123...</td>\n",
       "      <td>-1.00</td>\n",
       "      <td>-1.00</td>\n",
       "      <td>2029-10-14</td>\n",
       "    </tr>\n",
       "  </tbody>\n",
       "</table>\n",
       "</div>"
      ],
      "text/plain": [
       "      id                                              title  dollar_age  \\\n",
       "7   4732  NLE Choppa, BlocBoy, + More - Songwriter Royal...        3.58   \n",
       "8   4733          NLE Choppa, Layton Greene, Blocboy + More        3.39   \n",
       "20  4750          Hip-Hop Songwriter Royalties Feat. DaBaby        2.26   \n",
       "22  3704            Streaming-Driven Hip-Hop From RiFF RAFF        5.62   \n",
       "40  4458              Migos “First 48” Publishing Royalties        6.58   \n",
       "\n",
       "               type  latest offer  \\\n",
       "7           10_year        9500.0   \n",
       "8           10_year        7777.0   \n",
       "20  partial_10_year          -1.0   \n",
       "22  partial_10_year        2957.0   \n",
       "40  partial_10_year        4500.0   \n",
       "\n",
       "                                      date_of_revenue  \\\n",
       "7   ['2012-01-01', '2012-04-01', '2012-07-01', '20...   \n",
       "8   ['2012-01-01', '2012-04-01', '2012-07-01', '20...   \n",
       "20  ['2019-10-01', '2020-01-01', '2020-04-01', '20...   \n",
       "22  ['2016-04-01', '2016-07-01', '2016-10-01', '20...   \n",
       "40  ['2015-10-01', '2016-01-01', '2016-04-01', '20...   \n",
       "\n",
       "                                                total  buyNowPrice  \\\n",
       "7   [98, 15, 9, 9, 5, 0, 0, 0, 213, 0, 0, 0, 137, ...     13000.00   \n",
       "8   [98, 15, 9, 9, 5, 0, 0, 0, 213, 0, 0, 0, 101, ...     13000.00   \n",
       "20  [8, 2, 46292, 14700, 20161, 12335, 11465, 1047...        -1.00   \n",
       "22  [848, 868, 471, 639, 483, 399, 350, 468, 354, ...      2998.93   \n",
       "40  [1075, 487, 397, 659, 331, 4888, 463, 507, 123...        -1.00   \n",
       "\n",
       "    buyNowPriceMultiple termExpiration  \n",
       "7                  5.91     2032-08-11  \n",
       "8                  6.63     2032-08-11  \n",
       "20                -1.00     2032-07-25  \n",
       "22                 6.61     2029-07-27  \n",
       "40                -1.00     2029-10-14  "
      ]
     },
     "execution_count": 422,
     "metadata": {},
     "output_type": "execute_result"
    }
   ],
   "source": [
    "data_10y.head()"
   ]
  },
  {
   "cell_type": "code",
   "execution_count": 423,
   "metadata": {
    "collapsed": true
   },
   "outputs": [],
   "source": [
    "import warnings\n",
    "warnings.filterwarnings(\"ignore\")"
   ]
  },
  {
   "cell_type": "code",
   "execution_count": 428,
   "metadata": {},
   "outputs": [],
   "source": [
    "quotes=data_10y[(data_10y['buyNowPriceMultiple']>0) &(data_10y['latest offer']>0)] # & (data_10y['dollar_age']<5)]\n",
    "quotes['today']= pd.to_datetime('today')\n",
    "quotes['Time past']=10-(pd.to_datetime(quotes['termExpiration'])-quotes['today'])/ np.timedelta64(1, 'Y')\n",
    "#quotes['Time past'].head()\n",
    "spread=quotes['buyNowPriceMultiple']-quotes['buyNowPriceMultiple']/quotes['buyNowPrice']*quotes['latest offer']"
   ]
  },
  {
   "cell_type": "code",
   "execution_count": 429,
   "metadata": {
    "collapsed": true
   },
   "outputs": [],
   "source": [
    "quotes=quotes[(spread<10)]#& (quotes['buyNowPrice']>10000)]"
   ]
  },
  {
   "cell_type": "code",
   "execution_count": 430,
   "metadata": {},
   "outputs": [
    {
     "data": {
      "text/html": [
       "<div>\n",
       "<style scoped>\n",
       "    .dataframe tbody tr th:only-of-type {\n",
       "        vertical-align: middle;\n",
       "    }\n",
       "\n",
       "    .dataframe tbody tr th {\n",
       "        vertical-align: top;\n",
       "    }\n",
       "\n",
       "    .dataframe thead th {\n",
       "        text-align: right;\n",
       "    }\n",
       "</style>\n",
       "<table border=\"1\" class=\"dataframe\">\n",
       "  <thead>\n",
       "    <tr style=\"text-align: right;\">\n",
       "      <th></th>\n",
       "      <th>id</th>\n",
       "      <th>title</th>\n",
       "      <th>dollar_age</th>\n",
       "      <th>type</th>\n",
       "      <th>latest offer</th>\n",
       "      <th>date_of_revenue</th>\n",
       "      <th>total</th>\n",
       "      <th>buyNowPrice</th>\n",
       "      <th>buyNowPriceMultiple</th>\n",
       "      <th>termExpiration</th>\n",
       "      <th>today</th>\n",
       "      <th>Time past</th>\n",
       "    </tr>\n",
       "  </thead>\n",
       "  <tbody>\n",
       "    <tr>\n",
       "      <th>7</th>\n",
       "      <td>4732</td>\n",
       "      <td>NLE Choppa, BlocBoy, + More - Songwriter Royal...</td>\n",
       "      <td>3.58</td>\n",
       "      <td>10_year</td>\n",
       "      <td>9500.0</td>\n",
       "      <td>['2012-01-01', '2012-04-01', '2012-07-01', '20...</td>\n",
       "      <td>[98, 15, 9, 9, 5, 0, 0, 0, 213, 0, 0, 0, 137, ...</td>\n",
       "      <td>13000.00</td>\n",
       "      <td>5.91</td>\n",
       "      <td>2032-08-11</td>\n",
       "      <td>2022-08-14 15:22:18.013916</td>\n",
       "      <td>0.008393</td>\n",
       "    </tr>\n",
       "    <tr>\n",
       "      <th>8</th>\n",
       "      <td>4733</td>\n",
       "      <td>NLE Choppa, Layton Greene, Blocboy + More</td>\n",
       "      <td>3.39</td>\n",
       "      <td>10_year</td>\n",
       "      <td>7777.0</td>\n",
       "      <td>['2012-01-01', '2012-04-01', '2012-07-01', '20...</td>\n",
       "      <td>[98, 15, 9, 9, 5, 0, 0, 0, 213, 0, 0, 0, 101, ...</td>\n",
       "      <td>13000.00</td>\n",
       "      <td>6.63</td>\n",
       "      <td>2032-08-11</td>\n",
       "      <td>2022-08-14 15:22:18.013916</td>\n",
       "      <td>0.008393</td>\n",
       "    </tr>\n",
       "    <tr>\n",
       "      <th>22</th>\n",
       "      <td>3704</td>\n",
       "      <td>Streaming-Driven Hip-Hop From RiFF RAFF</td>\n",
       "      <td>5.62</td>\n",
       "      <td>partial_10_year</td>\n",
       "      <td>2957.0</td>\n",
       "      <td>['2016-04-01', '2016-07-01', '2016-10-01', '20...</td>\n",
       "      <td>[848, 868, 471, 639, 483, 399, 350, 468, 354, ...</td>\n",
       "      <td>2998.93</td>\n",
       "      <td>6.61</td>\n",
       "      <td>2029-07-27</td>\n",
       "      <td>2022-08-14 15:22:18.013916</td>\n",
       "      <td>3.050208</td>\n",
       "    </tr>\n",
       "    <tr>\n",
       "      <th>50</th>\n",
       "      <td>4702</td>\n",
       "      <td>Travis Scott's Hit Single \"FRANCHISE\" - Songwr...</td>\n",
       "      <td>1.76</td>\n",
       "      <td>partial_10_year</td>\n",
       "      <td>1000.0</td>\n",
       "      <td>['2021-01-01', '2021-04-01', '2021-07-01', '20...</td>\n",
       "      <td>[74, 1988, 269, 412, 280, 234]</td>\n",
       "      <td>9782.61</td>\n",
       "      <td>8.17</td>\n",
       "      <td>2032-06-03</td>\n",
       "      <td>2022-08-14 15:22:18.013916</td>\n",
       "      <td>0.197309</td>\n",
       "    </tr>\n",
       "    <tr>\n",
       "      <th>56</th>\n",
       "      <td>3478</td>\n",
       "      <td>Christina Perri Performance Royalties</td>\n",
       "      <td>10.18</td>\n",
       "      <td>partial_10_year</td>\n",
       "      <td>3000.0</td>\n",
       "      <td>['2009-07-01', '2009-10-01', '2010-01-01', '20...</td>\n",
       "      <td>[156, 0, 184, 0, 0, 274, 51, 0, 151, 0, 171, 0...</td>\n",
       "      <td>4755.43</td>\n",
       "      <td>7.90</td>\n",
       "      <td>2030-03-12</td>\n",
       "      <td>2022-08-14 15:22:18.013916</td>\n",
       "      <td>2.425965</td>\n",
       "    </tr>\n",
       "  </tbody>\n",
       "</table>\n",
       "</div>"
      ],
      "text/plain": [
       "      id                                              title  dollar_age  \\\n",
       "7   4732  NLE Choppa, BlocBoy, + More - Songwriter Royal...        3.58   \n",
       "8   4733          NLE Choppa, Layton Greene, Blocboy + More        3.39   \n",
       "22  3704            Streaming-Driven Hip-Hop From RiFF RAFF        5.62   \n",
       "50  4702  Travis Scott's Hit Single \"FRANCHISE\" - Songwr...        1.76   \n",
       "56  3478              Christina Perri Performance Royalties       10.18   \n",
       "\n",
       "               type  latest offer  \\\n",
       "7           10_year        9500.0   \n",
       "8           10_year        7777.0   \n",
       "22  partial_10_year        2957.0   \n",
       "50  partial_10_year        1000.0   \n",
       "56  partial_10_year        3000.0   \n",
       "\n",
       "                                      date_of_revenue  \\\n",
       "7   ['2012-01-01', '2012-04-01', '2012-07-01', '20...   \n",
       "8   ['2012-01-01', '2012-04-01', '2012-07-01', '20...   \n",
       "22  ['2016-04-01', '2016-07-01', '2016-10-01', '20...   \n",
       "50  ['2021-01-01', '2021-04-01', '2021-07-01', '20...   \n",
       "56  ['2009-07-01', '2009-10-01', '2010-01-01', '20...   \n",
       "\n",
       "                                                total  buyNowPrice  \\\n",
       "7   [98, 15, 9, 9, 5, 0, 0, 0, 213, 0, 0, 0, 137, ...     13000.00   \n",
       "8   [98, 15, 9, 9, 5, 0, 0, 0, 213, 0, 0, 0, 101, ...     13000.00   \n",
       "22  [848, 868, 471, 639, 483, 399, 350, 468, 354, ...      2998.93   \n",
       "50                     [74, 1988, 269, 412, 280, 234]      9782.61   \n",
       "56  [156, 0, 184, 0, 0, 274, 51, 0, 151, 0, 171, 0...      4755.43   \n",
       "\n",
       "    buyNowPriceMultiple termExpiration                      today  Time past  \n",
       "7                  5.91     2032-08-11 2022-08-14 15:22:18.013916   0.008393  \n",
       "8                  6.63     2032-08-11 2022-08-14 15:22:18.013916   0.008393  \n",
       "22                 6.61     2029-07-27 2022-08-14 15:22:18.013916   3.050208  \n",
       "50                 8.17     2032-06-03 2022-08-14 15:22:18.013916   0.197309  \n",
       "56                 7.90     2030-03-12 2022-08-14 15:22:18.013916   2.425965  "
      ]
     },
     "execution_count": 430,
     "metadata": {},
     "output_type": "execute_result"
    }
   ],
   "source": [
    "quotes.head()"
   ]
  },
  {
   "cell_type": "code",
   "execution_count": 431,
   "metadata": {},
   "outputs": [
    {
     "data": {
      "text/plain": [
       "[<matplotlib.lines.Line2D at 0x1c31d236a0>]"
      ]
     },
     "execution_count": 431,
     "metadata": {},
     "output_type": "execute_result"
    },
    {
     "data": {
      "image/png": "[encoded data removed]",
      "text/plain": [
       "<matplotlib.figure.Figure at 0x1c31d237b8>"
      ]
     },
     "metadata": {},
     "output_type": "display_data"
    }
   ],
   "source": [
    "plt.plot(quotes['Time past'],quotes['buyNowPriceMultiple']/quotes['buyNowPrice']*quotes['latest offer'], '*')\n",
    "plt.plot(quotes['Time past'],quotes['buyNowPriceMultiple'], '*')"
   ]
  },
  {
   "cell_type": "code",
   "execution_count": 432,
   "metadata": {
    "collapsed": true
   },
   "outputs": [],
   "source": [
    "asks7y=quotes[(quotes['Time past']>2.5) & (quotes['Time past']<3.5)]"
   ]
  },
  {
   "cell_type": "code",
   "execution_count": 433,
   "metadata": {},
   "outputs": [
    {
     "data": {
      "text/plain": [
       "(5, 9)"
      ]
     },
     "execution_count": 433,
     "metadata": {},
     "output_type": "execute_result"
    },
    {
     "data": {
      "image/png": "[encoded data removed]",
      "text/plain": [
       "<matplotlib.figure.Figure at 0x1c31e75780>"
      ]
     },
     "metadata": {},
     "output_type": "display_data"
    }
   ],
   "source": [
    "plt.plot(asks7y['dollar_age'],asks7y['buyNowPriceMultiple']/asks7y['buyNowPrice']*asks7y['latest offer'], '*')\n",
    "plt.plot(asks7y['dollar_age'],asks7y['buyNowPriceMultiple'], '*')\n",
    "plt.xlim([5,9])"
   ]
  },
  {
   "cell_type": "code",
   "execution_count": 434,
   "metadata": {
    "scrolled": true
   },
   "outputs": [
    {
     "data": {
      "text/html": [
       "<div>\n",
       "<style scoped>\n",
       "    .dataframe tbody tr th:only-of-type {\n",
       "        vertical-align: middle;\n",
       "    }\n",
       "\n",
       "    .dataframe tbody tr th {\n",
       "        vertical-align: top;\n",
       "    }\n",
       "\n",
       "    .dataframe thead th {\n",
       "        text-align: right;\n",
       "    }\n",
       "</style>\n",
       "<table border=\"1\" class=\"dataframe\">\n",
       "  <thead>\n",
       "    <tr style=\"text-align: right;\">\n",
       "      <th></th>\n",
       "      <th>id</th>\n",
       "      <th>title</th>\n",
       "      <th>dollar_age</th>\n",
       "      <th>type</th>\n",
       "      <th>highest open offer</th>\n",
       "      <th>date_of_revenue</th>\n",
       "      <th>total</th>\n",
       "      <th>buyNowPrice</th>\n",
       "      <th>buyNowPriceMultiple</th>\n",
       "    </tr>\n",
       "  </thead>\n",
       "  <tbody>\n",
       "    <tr>\n",
       "      <th>0</th>\n",
       "      <td>4699</td>\n",
       "      <td>\"Texas Flood\" - Publishing Royalties</td>\n",
       "      <td>39.05</td>\n",
       "      <td>30_year</td>\n",
       "      <td>55500.0</td>\n",
       "      <td>['2017-04-01', '2017-07-01', '2017-10-01', '20...</td>\n",
       "      <td>[2045, 0, 1993, 0, 2722, 0, 4639, 0, 2284, 0, ...</td>\n",
       "      <td>-1.0</td>\n",
       "      <td>-1.00</td>\n",
       "    </tr>\n",
       "    <tr>\n",
       "      <th>1</th>\n",
       "      <td>4738</td>\n",
       "      <td>\"I Wish\" by Skee-Lo</td>\n",
       "      <td>27.38</td>\n",
       "      <td>life_of_rights</td>\n",
       "      <td>350000.0</td>\n",
       "      <td>['2018-12-01', '2019-01-01', '2019-02-01', '20...</td>\n",
       "      <td>[7135, 0, 0, 0, 0, 0, 0, 0, 0, 0, 0, 0, 0, 0, ...</td>\n",
       "      <td>235000.0</td>\n",
       "      <td>12.27</td>\n",
       "    </tr>\n",
       "    <tr>\n",
       "      <th>2</th>\n",
       "      <td>4740</td>\n",
       "      <td>Diverse International Catalog: R&amp;B, K-Pop, + More</td>\n",
       "      <td>3.64</td>\n",
       "      <td>life_of_rights</td>\n",
       "      <td>30000.0</td>\n",
       "      <td>['2016-10-01', '2016-11-01', '2016-12-01', '20...</td>\n",
       "      <td>[59, 0, 0, 0, 0, 0, 1531, 270, 0, 1498, 407, 3...</td>\n",
       "      <td>-1.0</td>\n",
       "      <td>-1.00</td>\n",
       "    </tr>\n",
       "    <tr>\n",
       "      <th>3</th>\n",
       "      <td>4717</td>\n",
       "      <td>\"Drankin N Smokin\" by Future &amp; Lil Uzi Vert + ...</td>\n",
       "      <td>1.85</td>\n",
       "      <td>life_of_rights</td>\n",
       "      <td>140000.0</td>\n",
       "      <td>['2020-01-01', '2020-04-01', '2020-07-01', '20...</td>\n",
       "      <td>[523, 1799, 5956, 10046, 9736, 9784, 8618, 6659]</td>\n",
       "      <td>145000.0</td>\n",
       "      <td>4.17</td>\n",
       "    </tr>\n",
       "    <tr>\n",
       "      <th>4</th>\n",
       "      <td>4749</td>\n",
       "      <td>Future, Juice WRLD &amp; Ugly God Royalties</td>\n",
       "      <td>4.04</td>\n",
       "      <td>life_of_rights</td>\n",
       "      <td>8400.0</td>\n",
       "      <td>['2018-04-01', '2018-07-01', '2018-10-01', '20...</td>\n",
       "      <td>[806, 658, 2047, 921, 694, 629, 582, 628, 463,...</td>\n",
       "      <td>-1.0</td>\n",
       "      <td>-1.00</td>\n",
       "    </tr>\n",
       "  </tbody>\n",
       "</table>\n",
       "</div>"
      ],
      "text/plain": [
       "     id                                              title  dollar_age  \\\n",
       "0  4699               \"Texas Flood\" - Publishing Royalties       39.05   \n",
       "1  4738                                \"I Wish\" by Skee-Lo       27.38   \n",
       "2  4740  Diverse International Catalog: R&B, K-Pop, + More        3.64   \n",
       "3  4717  \"Drankin N Smokin\" by Future & Lil Uzi Vert + ...        1.85   \n",
       "4  4749            Future, Juice WRLD & Ugly God Royalties        4.04   \n",
       "\n",
       "             type  highest open offer  \\\n",
       "0         30_year             55500.0   \n",
       "1  life_of_rights            350000.0   \n",
       "2  life_of_rights             30000.0   \n",
       "3  life_of_rights            140000.0   \n",
       "4  life_of_rights              8400.0   \n",
       "\n",
       "                                     date_of_revenue  \\\n",
       "0  ['2017-04-01', '2017-07-01', '2017-10-01', '20...   \n",
       "1  ['2018-12-01', '2019-01-01', '2019-02-01', '20...   \n",
       "2  ['2016-10-01', '2016-11-01', '2016-12-01', '20...   \n",
       "3  ['2020-01-01', '2020-04-01', '2020-07-01', '20...   \n",
       "4  ['2018-04-01', '2018-07-01', '2018-10-01', '20...   \n",
       "\n",
       "                                               total  buyNowPrice  \\\n",
       "0  [2045, 0, 1993, 0, 2722, 0, 4639, 0, 2284, 0, ...         -1.0   \n",
       "1  [7135, 0, 0, 0, 0, 0, 0, 0, 0, 0, 0, 0, 0, 0, ...     235000.0   \n",
       "2  [59, 0, 0, 0, 0, 0, 1531, 270, 0, 1498, 407, 3...         -1.0   \n",
       "3   [523, 1799, 5956, 10046, 9736, 9784, 8618, 6659]     145000.0   \n",
       "4  [806, 658, 2047, 921, 694, 629, 582, 628, 463,...         -1.0   \n",
       "\n",
       "   buyNowPriceMultiple  \n",
       "0                -1.00  \n",
       "1                12.27  \n",
       "2                -1.00  \n",
       "3                 4.17  \n",
       "4                -1.00  "
      ]
     },
     "execution_count": 434,
     "metadata": {},
     "output_type": "execute_result"
    }
   ],
   "source": [
    "new_data = pd.read_csv('data - new.csv')\n",
    "new_data.head()"
   ]
  },
  {
   "cell_type": "code",
   "execution_count": 435,
   "metadata": {},
   "outputs": [
    {
     "name": "stdout",
     "output_type": "stream",
     "text": [
      "484\n",
      "202\n",
      "53\n",
      "2\n"
     ]
    }
   ],
   "source": [
    "#data=new_data\n",
    "print(len(data))\n",
    "print(len(data[data['type']=='life_of_rights']))\n",
    "print(len(data[data['type']=='30_year']))\n",
    "print(len(data[data['type']=='10_year']))"
   ]
  },
  {
   "cell_type": "code",
   "execution_count": 436,
   "metadata": {
    "collapsed": true
   },
   "outputs": [],
   "source": [
    "def stringdate_to_month(dates):\n",
    "    dates = dates.split(',')\n",
    "    n = []\n",
    "    for date in dates:\n",
    "        year = int(date[4:6])\n",
    "        month = int(date[7:9])\n",
    "        n.append(year*12+month)\n",
    "    return n\n",
    "\n",
    "def stringrevenues_to_numbers(totals):\n",
    "    vals = totals.split(',')\n",
    "    n = []\n",
    "    for val in vals:\n",
    "        if val == vals[-1]:\n",
    "            t = int(val[1:-1])\n",
    "            n.append(t)\n",
    "        else:\n",
    "            t = int(val[1:])\n",
    "            n.append(t)\n",
    "    return n\n",
    "\n",
    "def dollageage_to_y(age):\n",
    "    age_q = age*12/12\n",
    "    return age_q\n",
    "\n",
    "#input a list of monthly revenues for a song. If any are 0, return 1 to mark bad data\n",
    "def check_bad_totals(song_totals_list):\n",
    "    tots_check = [a for a in song_totals_list if a<=0]\n",
    "    if len(tots_check)>0:\n",
    "        return 1\n",
    "    return 0\n",
    "    \n",
    "#input totals data for a song and convert into a list with data\n",
    "#(list of quart. revenues, list of %change from q_over_q, list of quart. revenues with start point 100)\n",
    "def song_yearly_data(totals, dates_of_revenue):\n",
    "    song_totals_list = stringrevenues_to_numbers(totals)\n",
    "    \n",
    "    if check_bad_totals(song_totals_list)==1:\n",
    "        return []\n",
    "    \n",
    "    y_num = math.floor((dates_of_revenue[-1]-dates_of_revenue[0])/12)\n",
    "    m_start = dates_of_revenue[0]\n",
    "    y_data = []\n",
    "    for i in range(y_num):\n",
    "        months = [m_start+12*i,m_start+12*i+1, m_start+12*i+2,\n",
    "                  m_start+12*i+3,m_start+12*i+4, m_start+12*i+5,\n",
    "                  m_start+12*i+6,m_start+12*i+7, m_start+12*i+8,\n",
    "                  m_start+12*i+9,m_start+12*i+10, m_start+12*i+11]\n",
    "        inds = [dates_of_revenue.index(m) for m in months if m in dates_of_revenue]\n",
    "        y_tot = np.sum([song_totals_list[ind] for ind in inds])\n",
    "        y_data.append(y_tot)\n",
    "    \n",
    "    if check_bad_totals(y_data)==1:\n",
    "        return []\n",
    "    \n",
    "    yoy_change = [y_data[i+1]/y_data[i]-1 for i in range(y_num-1)]\n",
    "    y_data_100 = [i/y_data[0]*100 for i in y_data]\n",
    "    return (y_data, yoy_change, y_data_100)\n",
    "\n",
    "#Transforms data table into a workable list\n",
    "#Return two lists with identical structure - songs with full data and song with broken revenue records\n",
    "#Each song entry has (id, dollar age in quarters, revenue dates in months since 2000, list of quarterly data, name)\n",
    "#List of quarterly data for a song is empty for broken revenue records and has following data for non-broken songs\n",
    "#(list of quart. revenues, list of %change from q_over_q, list of quart. revenues with start point 100)\n",
    "def df_to_database(data):\n",
    "    database = []\n",
    "    bad_songs = []\n",
    "    num_songs = data.shape[0]\n",
    "    for song_id in range(num_songs):\n",
    "        name = data.iloc[song_id,0]\n",
    "        dollar_age = data.iloc[song_id,1]\n",
    "        dates_of_revenue = data.iloc[song_id,4]\n",
    "        totals = data.iloc[song_id,5]\n",
    "        \n",
    "        dor_processed = stringdate_to_month(dates_of_revenue)\n",
    "        dollar_age_processed = dollageage_to_y(dollar_age)\n",
    "        revenuedata_processed = song_yearly_data(totals, dor_processed)\n",
    "        \n",
    "        if len(revenuedata_processed)>0:\n",
    "            database.append([song_id, dollar_age_processed, dor_processed, revenuedata_processed, name])\n",
    "        else:\n",
    "            bad_songs.append([song_id, dollar_age_processed, dor_processed, revenuedata_processed, name])\n",
    "    return (database, bad_songs)   \n",
    "\n",
    "#Output predicted quarterly performance for a list of songs\n",
    "#Prediction is made but taking the decile performance for a given quarter\n",
    "#If no input is given, mean value is taken and weighted by total revenues for a quarter\n",
    "#A minimum number of songs is required to analyze a quarter. If there are less than q_limit songs for a quarter, abort\n",
    "def deciled_yoy_performance(songs_data, decile=-1, n_limit=25, weighted=-1):\n",
    "    observations = len(songs_data)\n",
    "    y_performance = []\n",
    "    if observations<n_limit:\n",
    "        print('Not enough data even for one quarter')\n",
    "        return 0\n",
    "    \n",
    "    while observations>=n_limit:\n",
    "        current_y = len(y_performance)\n",
    "        relevant_songs = [song for song in songs_data if len(song[3][1])>current_y]\n",
    "        current_revenues = [song[3][0][current_y] for song in relevant_songs]\n",
    "        current_changes_forward = [song[3][1][current_y] for song in relevant_songs]\n",
    "        if decile==-1 and weighted==-1:\n",
    "            current_performance = np.sum([current_changes_forward[i]*current_revenues[i]/sum(current_revenues) \n",
    "                                       for i in range(len(current_changes_forward))])\n",
    "        else:\n",
    "            if decile==-1:\n",
    "                current_performance = np.mean(current_changes_forward)\n",
    "                \n",
    "        if decile!=-1:\n",
    "            current_performance = np.percentile(current_changes_forward, decile)\n",
    "            \n",
    "        y_performance.append([len(y_performance)+1, observations, current_performance])\n",
    "        observations = len(relevant_songs)\n",
    "                              \n",
    "        \n",
    "    return y_performance\n",
    "\n",
    "#Removes all songs with discrepancy between dollar age and revenue age is above the limit\n",
    "#Input database as a database of songs in the format from df_to_database function\n",
    "#input limit as a decimal that indicates how many percent away can RA be away from DA\n",
    "def clean_da_vs_ra(database, limit):\n",
    "    new_database = []\n",
    "    for song in database:\n",
    "        da = song[1] #dollar age in quarters\n",
    "        ra = (song[2][-1]-song[2][0])/12\n",
    "        if da*(1-limit)<ra and ra<da*(1+limit):\n",
    "            new_database.append(song)\n",
    "    return new_database\n",
    "\n",
    "#input song in standard format and get a list of revenues divided by y1 revenue\n",
    "def y1_rev_share(song):\n",
    "    revenues = song[3][2]\n",
    "    adjusted_revs = [rev/100 for rev in revenues]\n",
    "    return adjusted_revs\n",
    "\n",
    "#input annual revenues as a list and dollar age in years\n",
    "def adjust_rev_for_da(revenues, da_y):\n",
    "    da_y = np.round(da_y)\n",
    "    start_dollar_age = da_y-len(revenues)+1\n",
    "    da_indexing = [start_dollar_age+i for i in range(len(revenues))]\n",
    "    return da_indexing\n",
    "\n",
    "def yearly_performance_shareofLTM(songs, da_y_target, contract_len_years):\n",
    "    if da_y_target<1:\n",
    "        print('Song is too young!')\n",
    "        return 0\n",
    "    \n",
    "    relevant_data = []\n",
    "    for song in songs:\n",
    "        da_y = song[1]\n",
    "        adjusted_revenues = y1_rev_share(song)\n",
    "        da_indexing = adjust_rev_for_da(adjusted_revenues, da_y)\n",
    "        if da_y_target in da_indexing and (da_y_target+1) in da_indexing:\n",
    "            s = da_indexing.index(da_y_target)\n",
    "            LTM = adjusted_revenues[s]\n",
    "            rest = [a_rev/LTM for a_rev in adjusted_revenues[s+1:]]\n",
    "            relevant_data.append(rest)\n",
    "            \n",
    "    ann_averages = []\n",
    "    for i in range(contract_len_years):\n",
    "        performances = [rd[i] for rd in relevant_data if len(rd)>i]\n",
    "        if len(performances)>0:\n",
    "            mean_performance = np.mean(performances)\n",
    "            min_p = np.min(performances)\n",
    "            max_p = np.max(performances)\n",
    "            median_p = np.median(performances)\n",
    "            t_90 = np.percentile(performances, 90)\n",
    "            t_10 = np.percentile(performances, 10)\n",
    "            ann_averages.append([i+1,len(performances),mean_performance, median_p, t_90, t_10])\n",
    "        else:\n",
    "            ann_averages.append([i+1,0,0])\n",
    "    return (ann_averages, relevant_data)\n",
    "    \n",
    "#input song data and dollar age in quarters for which to calculate multiplier\n",
    "def calc_multiplier(songs, da_y_target,annual_r, contract_len_years):\n",
    "    if da_y_target<1:\n",
    "        print('Song is too young!')\n",
    "        return 0\n",
    "    \n",
    "    relevant_data = []\n",
    "    for song in songs:\n",
    "        da_y = song[1]\n",
    "        adjusted_revenues = y1_rev_share(song)\n",
    "        da_indexing = adjust_rev_for_da(adjusted_revenues, da_y)\n",
    "        if da_y_target in da_indexing and (da_y_target+1) in da_indexing:\n",
    "            s = da_indexing.index(da_y_target)\n",
    "            LTM = adjusted_revenues[s]\n",
    "            rest = [a_rev/LTM for a_rev in adjusted_revenues[s+1:]]\n",
    "            relevant_data.append(rest)\n",
    "            \n",
    "    ann_averages = []\n",
    "    for i in range(int(contract_len_years)):\n",
    "        performances = [rd[i] for rd in relevant_data if len(rd)>i]\n",
    "        if len(performances)>0:\n",
    "            mean_performance = np.mean(performances)\n",
    "            ann_averages.append([i+1,len(performances),mean_performance])\n",
    "        else:\n",
    "            ann_averages.append([i+1,0,0])\n",
    "            if i == contract_len_years-1:\n",
    "                print('Insufficient data at for dollar age', da_y_target)\n",
    "    q_r = annual_r/4\n",
    "    m = np.sum([ann_averages[i][2]/np.power(1+q_r,i+1) for i in range(int(contract_len_years))])\n",
    "    return m\n",
    "\n",
    "#input song data and dollar age in quarters for which to calculate multiplier\n",
    "def calc_multiplier_perc(songs, da_y_target,annual_r, contract_len_years, p = 50):\n",
    "    if da_y_target<1:\n",
    "        print('Song is too young!')\n",
    "        return 0\n",
    "    \n",
    "    relevant_data = []\n",
    "    for song in songs:\n",
    "        da_y = song[1]\n",
    "        adjusted_revenues = y1_rev_share(song)\n",
    "        da_indexing = adjust_rev_for_da(adjusted_revenues, da_y)\n",
    "        if da_y_target in da_indexing and (da_y_target+1) in da_indexing:\n",
    "            s = da_indexing.index(da_y_target)\n",
    "            LTM = adjusted_revenues[s]\n",
    "            rest = [a_rev/LTM for a_rev in adjusted_revenues[s+1:]]\n",
    "            relevant_data.append(rest)\n",
    "            \n",
    "    ann_averages = []\n",
    "    for i in range(int(contract_len_years)):\n",
    "        performances = [rd[i] for rd in relevant_data if len(rd)>i]\n",
    "        if len(performances)>0:\n",
    "            mean_performance = np.percentile(performances, p)\n",
    "            ann_averages.append([i+1,len(performances),mean_performance])\n",
    "        else:\n",
    "            ann_averages.append([i+1,0,0])\n",
    "            if i == contract_len_years-1:\n",
    "                print('Insufficient data at for dollar age', da_y_target)\n",
    "    q_r = annual_r/4\n",
    "    m = np.sum([ann_averages[i][2]/np.power(1+q_r,i+1) for i in range(int(contract_len_years))])\n",
    "    return m"
   ]
  },
  {
   "cell_type": "code",
   "execution_count": 437,
   "metadata": {},
   "outputs": [
    {
     "data": {
      "text/plain": [
       "223"
      ]
     },
     "execution_count": 437,
     "metadata": {},
     "output_type": "execute_result"
    }
   ],
   "source": [
    "database = df_to_database(data)[0]\n",
    "new_database = clean_da_vs_ra(database, 0.3)\n",
    "len(new_database)\n",
    "#database[0]"
   ]
  },
  {
   "cell_type": "code",
   "execution_count": 438,
   "metadata": {
    "collapsed": true
   },
   "outputs": [],
   "source": [
    "def convert_obs(obs):\n",
    "    if type(obs)!=type('a'):\n",
    "        return float(obs)\n",
    "    vals = obs.split(',')\n",
    "    if len(vals)>1:\n",
    "        d = vals[0]+'.'+vals[1]\n",
    "    else:\n",
    "        d = vals[0]\n",
    "    return float(d)"
   ]
  },
  {
   "cell_type": "code",
   "execution_count": 439,
   "metadata": {},
   "outputs": [
    {
     "name": "stdout",
     "output_type": "stream",
     "text": [
      "Expected share of LTM revenue for future years for a song of age 7 years\n"
     ]
    }
   ],
   "source": [
    "#Input dollar age of interest\n",
    "age_y = 7\n",
    "#Input number of years to look for\n",
    "r = 7\n",
    "perfs = yearly_performance_shareofLTM(new_database, age_y, 10)\n",
    "print('Expected share of LTM revenue for future years for a song of age', age_y,'years')"
   ]
  },
  {
   "cell_type": "code",
   "execution_count": 440,
   "metadata": {},
   "outputs": [
    {
     "name": "stdout",
     "output_type": "stream",
     "text": [
      "Song of age 7 years - 90th, 50th, 10th percentiles share\n"
     ]
    },
    {
     "data": {
      "text/plain": [
       "<matplotlib.text.Text at 0x1c314dbef0>"
      ]
     },
     "execution_count": 440,
     "metadata": {},
     "output_type": "execute_result"
    },
    {
     "data": {
      "image/png": "[encoded data removed]",
      "text/plain": [
       "<matplotlib.figure.Figure at 0x1c3228b198>"
      ]
     },
     "metadata": {},
     "output_type": "display_data"
    }
   ],
   "source": [
    "print('Song of age',age_y,'years - 90th, 50th, 10th percentiles share')\n",
    "median_data = [p[3] for p in perfs[0]]\n",
    "t90_data = [p[4] for p in perfs[0]]\n",
    "t10_data = [p[5] for p in perfs[0]]\n",
    "#plt.plot(mean_data[:20])\n",
    "r = 10\n",
    "plt.plot(range(1,r+1), median_data[:r],label='Median growth')\n",
    "plt.plot(range(1,r+1), t90_data[:r],label='Top songs growth')\n",
    "plt.plot(range(1,r+1), t10_data[:r],label='Bottom songs growth')\n",
    "plt.plot(range(1,r+1), [1]*r)\n",
    "plt.legend()\n",
    "x_name = 'Years past year '+str(age_y)\n",
    "y_name = 'Share of year '+str(age_y)+' revenue'\n",
    "plt.xlabel(x_name)\n",
    "plt.ylabel(y_name)"
   ]
  },
  {
   "cell_type": "code",
   "execution_count": 450,
   "metadata": {},
   "outputs": [
    {
     "name": "stdout",
     "output_type": "stream",
     "text": [
      "7Y contract Multiplier calculation - 90th, 50th, 10th percentiles\n"
     ]
    },
    {
     "data": {
      "image/png": "[encoded data removed]",
      "text/plain": [
       "<matplotlib.figure.Figure at 0x1c31cb74e0>"
      ]
     },
     "metadata": {},
     "output_type": "display_data"
    }
   ],
   "source": [
    "#Produce a graph for a multiplier for a 10y contract\n",
    "multis_median = []\n",
    "multis_top10 = []\n",
    "multis_top90 = []\n",
    "mutltis_print = []\n",
    "for target_da in range(5, 10):\n",
    "    median_app = calc_multiplier_perc(new_database, target_da, 0.1, 7, 50)\n",
    "    t10_app = calc_multiplier_perc(new_database, target_da, 0.1, 7, 10)\n",
    "    t90_app = calc_multiplier_perc(new_database, target_da, 0.1, 7, 90)\n",
    "    multis_median.append(median_app)\n",
    "    multis_top10.append(t10_app)\n",
    "    multis_top90.append(t90_app)\n",
    "\n",
    "print('7Y contract Multiplier calculation - 90th, 50th, 10th percentiles')\n",
    "plt.plot(range(5,10), multis_median,label='Median songs cashflows')\n",
    "plt.plot(range(5,10), multis_top90,label='Top songs cashflows')\n",
    "plt.plot(range(5,10), multis_top10,label='Bottom songs cashflows')\n",
    "\n",
    "plt.plot(asks7y['dollar_age'],asks7y['buyNowPriceMultiple']/asks7y['buyNowPrice']*asks7y['latest offer'], '*',label='asks')\n",
    "plt.plot(asks7y['dollar_age'],asks7y['buyNowPriceMultiple'], '*', label='bids')\n",
    "plt.ylim([0,33])\n",
    "plt.xlim([5,9])\n",
    "plt.xlabel('Dollar age in years')\n",
    "plt.ylabel('Multiplier for 7y')\n",
    "plt.legend(loc='upper left')\n",
    "plt.show()"
   ]
  },
  {
   "cell_type": "code",
   "execution_count": 442,
   "metadata": {
    "collapsed": true
   },
   "outputs": [],
   "source": [
    "#Produce a graph for a multiplier for a 10y contract as it ages \n",
    "multis_median = []\n",
    "multis_top10 = []\n",
    "multis_top90 = []\n",
    "initial_age_years = 7\n",
    "#relevant_obs_x = [obs[0] for obs in observations if obs[1]==initial_age_years]\n",
    "#relevant_obs_y = [obs[2] for obs in observations if obs[1]==initial_age_years]"
   ]
  },
  {
   "cell_type": "code",
   "execution_count": 444,
   "metadata": {},
   "outputs": [
    {
     "name": "stdout",
     "output_type": "stream",
     "text": [
      "Multiplier for the remainder of the 10Y contract for a song of initial age 7 - 90th, 50th, 10th percentiles\n"
     ]
    },
    {
     "data": {
      "text/plain": [
       "<matplotlib.text.Text at 0x1c3153fac8>"
      ]
     },
     "execution_count": 444,
     "metadata": {},
     "output_type": "execute_result"
    },
    {
     "data": {
      "image/png": "[encoded data removed]",
      "text/plain": [
       "<matplotlib.figure.Figure at 0x1c30f1d3c8>"
      ]
     },
     "metadata": {},
     "output_type": "display_data"
    }
   ],
   "source": [
    "plt.figure()\n",
    "multis_median=[]\n",
    "multis_top10=[]\n",
    "multis_top90=[]\n",
    "\n",
    "for target_da in range(11):\n",
    "    median_data = calc_multiplier_perc(new_database, initial_age_years+target_da, 0.098, 10-target_da, 50)\n",
    "    t90_data = calc_multiplier_perc(new_database, initial_age_years+target_da, 0.098, 10-target_da, 90)\n",
    "    t10_data = calc_multiplier_perc(new_database, initial_age_years+target_da, 0.098, 10-target_da, 10)\n",
    "    multis_median.append(median_data)\n",
    "    multis_top10.append(t10_data)\n",
    "    multis_top90.append(t90_data)\n",
    "\n",
    "print('Multiplier for the remainder of the 10Y contract for a song of initial age', initial_age_years, '- 90th, 50th, 10th percentiles')\n",
    "plt.plot(multis_median,label='median songs')\n",
    "plt.plot(multis_top90,label='top songs')\n",
    "plt.plot(multis_top10,label='bottom songs')\n",
    "#plt.plot(bids['Time past'],bids['highest open offer multiplier'], '*')\n",
    "#plt.plot(asks['Time past'],asks['list price multiplier'], '*')\n",
    "plt.plot(quotes['Time past'],quotes['buyNowPriceMultiple']/quotes['buyNowPrice']*quotes['latest offer'], '*',label='latest bid')\n",
    "plt.plot(quotes['Time past'],quotes['buyNowPriceMultiple'], '*')\n",
    "plt.ylim([0,40])\n",
    "plt.legend()\n",
    "#plt.plot(relevant_obs_x, relevant_obs_y, 'x')\n",
    "plt.xlabel('Years of contract passed')\n",
    "plt.ylabel('Multiplier')\n"
   ]
  },
  {
   "cell_type": "code",
   "execution_count": null,
   "metadata": {
    "collapsed": true
   },
   "outputs": [],
   "source": [
    "#Notes - filter songs by dollar age vs actual age \n",
    "#Log revenue (small songs blow up more likely?)\n",
    "#Multiplier? 10-year\n",
    "#Blow up?\n",
    "#8,5% annual discount rate"
   ]
  },
  {
   "cell_type": "code",
   "execution_count": null,
   "metadata": {
    "collapsed": true
   },
   "outputs": [],
   "source": []
  }
 ],
 "metadata": {
  "kernelspec": {
   "display_name": "Python 3",
   "language": "python",
   "name": "python3"
  },
  "language_info": {
   "codemirror_mode": {
    "name": "ipython",
    "version": 3
   },
   "file_extension": ".py",
   "mimetype": "text/x-python",
   "name": "python",
   "nbconvert_exporter": "python",
   "pygments_lexer": "ipython3",
   "version": "3.6.9"
  },
  "vscode": {
   "interpreter": {
    "hash": "aee8b7b246df8f9039afb4144a1f6fd8d2ca17a180786b69acc140d282b71a49"
   }
  }
 },
 "nbformat": 4,
 "nbformat_minor": 2
}
