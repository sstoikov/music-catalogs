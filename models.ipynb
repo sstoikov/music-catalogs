{
 "cells": [
  {
   "cell_type": "code",
   "execution_count": 155,
   "metadata": {
    "collapsed": true
   },
   "outputs": [],
   "source": [
    "import pandas as pd\n",
    "import numpy as np\n",
    "import statsmodels.api as sm\n",
    "import matplotlib.pyplot as plt\n",
    "import math\n",
    "import random\n",
    "%matplotlib inline"
   ]
  },
  {
   "cell_type": "code",
   "execution_count": 156,
   "metadata": {
    "collapsed": true
   },
   "outputs": [],
   "source": [
    "data = pd.read_csv('data.csv')"
   ]
  },
  {
   "cell_type": "code",
   "execution_count": 157,
   "metadata": {},
   "outputs": [
    {
     "data": {
      "text/html": [
       "<div>\n",
       "<style scoped>\n",
       "    .dataframe tbody tr th:only-of-type {\n",
       "        vertical-align: middle;\n",
       "    }\n",
       "\n",
       "    .dataframe tbody tr th {\n",
       "        vertical-align: top;\n",
       "    }\n",
       "\n",
       "    .dataframe thead th {\n",
       "        text-align: right;\n",
       "    }\n",
       "</style>\n",
       "<table border=\"1\" class=\"dataframe\">\n",
       "  <thead>\n",
       "    <tr style=\"text-align: right;\">\n",
       "      <th></th>\n",
       "      <th>title</th>\n",
       "      <th>dollar_age</th>\n",
       "      <th>type</th>\n",
       "      <th>highest open offer</th>\n",
       "      <th>date_of_revenue</th>\n",
       "      <th>total</th>\n",
       "    </tr>\n",
       "  </thead>\n",
       "  <tbody>\n",
       "    <tr>\n",
       "      <th>0</th>\n",
       "      <td>Alert Tone Royalties from Apple</td>\n",
       "      <td>2.21</td>\n",
       "      <td>life_of_rights</td>\n",
       "      <td>198000.00</td>\n",
       "      <td>['2012-12-01', '2013-01-01', '2013-02-01', '20...</td>\n",
       "      <td>[33, 23, 77, 76, 102, 110, 119, 140, 99, 116, ...</td>\n",
       "    </tr>\n",
       "    <tr>\n",
       "      <th>1</th>\n",
       "      <td>Music from Docuseries \"Murder Mountain\"</td>\n",
       "      <td>3.77</td>\n",
       "      <td>life_of_rights</td>\n",
       "      <td>20588.24</td>\n",
       "      <td>['2019-01-01', '2019-04-01', '2019-07-01', '20...</td>\n",
       "      <td>[0, 120, 2105, 371, 331, 89, 2759, 822, 1301, ...</td>\n",
       "    </tr>\n",
       "    <tr>\n",
       "      <th>2</th>\n",
       "      <td>Diverse Film &amp; TV Music Placed All Over The World</td>\n",
       "      <td>6.64</td>\n",
       "      <td>life_of_rights</td>\n",
       "      <td>150000.00</td>\n",
       "      <td>['2011-04-01', '2011-07-01', '2011-10-01', '20...</td>\n",
       "      <td>[5032, 4804, 3147, 4191, 4269, 3176, 2876, 471...</td>\n",
       "    </tr>\n",
       "    <tr>\n",
       "      <th>3</th>\n",
       "      <td>Latin Trap Hits - Songwriter Royalties</td>\n",
       "      <td>3.47</td>\n",
       "      <td>life_of_rights</td>\n",
       "      <td>10000.00</td>\n",
       "      <td>['2007-10-01', '2008-01-01', '2008-04-01', '20...</td>\n",
       "      <td>[413, 39, 0, 0, 0, 45, 0, 0, 0, 39, 0, 0, 2, 0...</td>\n",
       "    </tr>\n",
       "    <tr>\n",
       "      <th>4</th>\n",
       "      <td>R&amp;B Tracks from Tank</td>\n",
       "      <td>4.00</td>\n",
       "      <td>life_of_rights</td>\n",
       "      <td>9945.65</td>\n",
       "      <td>['2018-04-01', '2018-07-01', '2018-10-01', '20...</td>\n",
       "      <td>[121, 99, 152, 199, 157, 155, 147, 135, 128, 1...</td>\n",
       "    </tr>\n",
       "  </tbody>\n",
       "</table>\n",
       "</div>"
      ],
      "text/plain": [
       "                                               title  dollar_age  \\\n",
       "0                    Alert Tone Royalties from Apple        2.21   \n",
       "1            Music from Docuseries \"Murder Mountain\"        3.77   \n",
       "2  Diverse Film & TV Music Placed All Over The World        6.64   \n",
       "3             Latin Trap Hits - Songwriter Royalties        3.47   \n",
       "4                               R&B Tracks from Tank        4.00   \n",
       "\n",
       "             type  highest open offer  \\\n",
       "0  life_of_rights           198000.00   \n",
       "1  life_of_rights            20588.24   \n",
       "2  life_of_rights           150000.00   \n",
       "3  life_of_rights            10000.00   \n",
       "4  life_of_rights             9945.65   \n",
       "\n",
       "                                     date_of_revenue  \\\n",
       "0  ['2012-12-01', '2013-01-01', '2013-02-01', '20...   \n",
       "1  ['2019-01-01', '2019-04-01', '2019-07-01', '20...   \n",
       "2  ['2011-04-01', '2011-07-01', '2011-10-01', '20...   \n",
       "3  ['2007-10-01', '2008-01-01', '2008-04-01', '20...   \n",
       "4  ['2018-04-01', '2018-07-01', '2018-10-01', '20...   \n",
       "\n",
       "                                               total  \n",
       "0  [33, 23, 77, 76, 102, 110, 119, 140, 99, 116, ...  \n",
       "1  [0, 120, 2105, 371, 331, 89, 2759, 822, 1301, ...  \n",
       "2  [5032, 4804, 3147, 4191, 4269, 3176, 2876, 471...  \n",
       "3  [413, 39, 0, 0, 0, 45, 0, 0, 0, 39, 0, 0, 2, 0...  \n",
       "4  [121, 99, 152, 199, 157, 155, 147, 135, 128, 1...  "
      ]
     },
     "execution_count": 157,
     "metadata": {},
     "output_type": "execute_result"
    }
   ],
   "source": [
    "data.head()"
   ]
  },
  {
   "cell_type": "code",
   "execution_count": 158,
   "metadata": {},
   "outputs": [
    {
     "name": "stdout",
     "output_type": "stream",
     "text": [
      "484\n",
      "202\n",
      "53\n",
      "2\n"
     ]
    }
   ],
   "source": [
    "print(len(data))\n",
    "print(len(data[data['type']=='life_of_rights']))\n",
    "print(len(data[data['type']=='30_year']))\n",
    "print(len(data[data['type']=='10_year']))"
   ]
  },
  {
   "cell_type": "code",
   "execution_count": 159,
   "metadata": {
    "scrolled": true
   },
   "outputs": [
    {
     "data": {
      "text/html": [
       "<div>\n",
       "<style scoped>\n",
       "    .dataframe tbody tr th:only-of-type {\n",
       "        vertical-align: middle;\n",
       "    }\n",
       "\n",
       "    .dataframe tbody tr th {\n",
       "        vertical-align: top;\n",
       "    }\n",
       "\n",
       "    .dataframe thead th {\n",
       "        text-align: right;\n",
       "    }\n",
       "</style>\n",
       "<table border=\"1\" class=\"dataframe\">\n",
       "  <thead>\n",
       "    <tr style=\"text-align: right;\">\n",
       "      <th></th>\n",
       "      <th>id</th>\n",
       "      <th>title</th>\n",
       "      <th>dollar_age</th>\n",
       "      <th>type</th>\n",
       "      <th>highest open offer</th>\n",
       "      <th>date_of_revenue</th>\n",
       "      <th>total</th>\n",
       "      <th>buyNowPrice</th>\n",
       "      <th>buyNowPriceMultiple</th>\n",
       "    </tr>\n",
       "  </thead>\n",
       "  <tbody>\n",
       "    <tr>\n",
       "      <th>0</th>\n",
       "      <td>4699</td>\n",
       "      <td>\"Texas Flood\" - Publishing Royalties</td>\n",
       "      <td>39.05</td>\n",
       "      <td>30_year</td>\n",
       "      <td>55500.0</td>\n",
       "      <td>['2017-04-01', '2017-07-01', '2017-10-01', '20...</td>\n",
       "      <td>[2045, 0, 1993, 0, 2722, 0, 4639, 0, 2284, 0, ...</td>\n",
       "      <td>-1.0</td>\n",
       "      <td>-1.00</td>\n",
       "    </tr>\n",
       "    <tr>\n",
       "      <th>1</th>\n",
       "      <td>4738</td>\n",
       "      <td>\"I Wish\" by Skee-Lo</td>\n",
       "      <td>27.38</td>\n",
       "      <td>life_of_rights</td>\n",
       "      <td>350000.0</td>\n",
       "      <td>['2018-12-01', '2019-01-01', '2019-02-01', '20...</td>\n",
       "      <td>[7135, 0, 0, 0, 0, 0, 0, 0, 0, 0, 0, 0, 0, 0, ...</td>\n",
       "      <td>235000.0</td>\n",
       "      <td>12.27</td>\n",
       "    </tr>\n",
       "    <tr>\n",
       "      <th>2</th>\n",
       "      <td>4740</td>\n",
       "      <td>Diverse International Catalog: R&amp;B, K-Pop, + More</td>\n",
       "      <td>3.64</td>\n",
       "      <td>life_of_rights</td>\n",
       "      <td>30000.0</td>\n",
       "      <td>['2016-10-01', '2016-11-01', '2016-12-01', '20...</td>\n",
       "      <td>[59, 0, 0, 0, 0, 0, 1531, 270, 0, 1498, 407, 3...</td>\n",
       "      <td>-1.0</td>\n",
       "      <td>-1.00</td>\n",
       "    </tr>\n",
       "    <tr>\n",
       "      <th>3</th>\n",
       "      <td>4717</td>\n",
       "      <td>\"Drankin N Smokin\" by Future &amp; Lil Uzi Vert + ...</td>\n",
       "      <td>1.85</td>\n",
       "      <td>life_of_rights</td>\n",
       "      <td>140000.0</td>\n",
       "      <td>['2020-01-01', '2020-04-01', '2020-07-01', '20...</td>\n",
       "      <td>[523, 1799, 5956, 10046, 9736, 9784, 8618, 6659]</td>\n",
       "      <td>145000.0</td>\n",
       "      <td>4.17</td>\n",
       "    </tr>\n",
       "    <tr>\n",
       "      <th>4</th>\n",
       "      <td>4749</td>\n",
       "      <td>Future, Juice WRLD &amp; Ugly God Royalties</td>\n",
       "      <td>4.04</td>\n",
       "      <td>life_of_rights</td>\n",
       "      <td>8400.0</td>\n",
       "      <td>['2018-04-01', '2018-07-01', '2018-10-01', '20...</td>\n",
       "      <td>[806, 658, 2047, 921, 694, 629, 582, 628, 463,...</td>\n",
       "      <td>-1.0</td>\n",
       "      <td>-1.00</td>\n",
       "    </tr>\n",
       "  </tbody>\n",
       "</table>\n",
       "</div>"
      ],
      "text/plain": [
       "     id                                              title  dollar_age  \\\n",
       "0  4699               \"Texas Flood\" - Publishing Royalties       39.05   \n",
       "1  4738                                \"I Wish\" by Skee-Lo       27.38   \n",
       "2  4740  Diverse International Catalog: R&B, K-Pop, + More        3.64   \n",
       "3  4717  \"Drankin N Smokin\" by Future & Lil Uzi Vert + ...        1.85   \n",
       "4  4749            Future, Juice WRLD & Ugly God Royalties        4.04   \n",
       "\n",
       "             type  highest open offer  \\\n",
       "0         30_year             55500.0   \n",
       "1  life_of_rights            350000.0   \n",
       "2  life_of_rights             30000.0   \n",
       "3  life_of_rights            140000.0   \n",
       "4  life_of_rights              8400.0   \n",
       "\n",
       "                                     date_of_revenue  \\\n",
       "0  ['2017-04-01', '2017-07-01', '2017-10-01', '20...   \n",
       "1  ['2018-12-01', '2019-01-01', '2019-02-01', '20...   \n",
       "2  ['2016-10-01', '2016-11-01', '2016-12-01', '20...   \n",
       "3  ['2020-01-01', '2020-04-01', '2020-07-01', '20...   \n",
       "4  ['2018-04-01', '2018-07-01', '2018-10-01', '20...   \n",
       "\n",
       "                                               total  buyNowPrice  \\\n",
       "0  [2045, 0, 1993, 0, 2722, 0, 4639, 0, 2284, 0, ...         -1.0   \n",
       "1  [7135, 0, 0, 0, 0, 0, 0, 0, 0, 0, 0, 0, 0, 0, ...     235000.0   \n",
       "2  [59, 0, 0, 0, 0, 0, 1531, 270, 0, 1498, 407, 3...         -1.0   \n",
       "3   [523, 1799, 5956, 10046, 9736, 9784, 8618, 6659]     145000.0   \n",
       "4  [806, 658, 2047, 921, 694, 629, 582, 628, 463,...         -1.0   \n",
       "\n",
       "   buyNowPriceMultiple  \n",
       "0                -1.00  \n",
       "1                12.27  \n",
       "2                -1.00  \n",
       "3                 4.17  \n",
       "4                -1.00  "
      ]
     },
     "execution_count": 159,
     "metadata": {},
     "output_type": "execute_result"
    }
   ],
   "source": [
    "new_data = pd.read_csv('data - new.csv')\n",
    "new_data.head()"
   ]
  },
  {
   "cell_type": "code",
   "execution_count": 160,
   "metadata": {},
   "outputs": [
    {
     "name": "stdout",
     "output_type": "stream",
     "text": [
      "484\n",
      "202\n",
      "53\n",
      "2\n"
     ]
    }
   ],
   "source": [
    "#data=new_data\n",
    "print(len(data))\n",
    "print(len(data[data['type']=='life_of_rights']))\n",
    "print(len(data[data['type']=='30_year']))\n",
    "print(len(data[data['type']=='10_year']))"
   ]
  },
  {
   "cell_type": "code",
   "execution_count": 161,
   "metadata": {
    "collapsed": true
   },
   "outputs": [],
   "source": [
    "def stringdate_to_month(dates):\n",
    "    dates = dates.split(',')\n",
    "    n = []\n",
    "    for date in dates:\n",
    "        year = int(date[4:6])\n",
    "        month = int(date[7:9])\n",
    "        n.append(year*12+month)\n",
    "    return n\n",
    "\n",
    "def stringrevenues_to_numbers(totals):\n",
    "    vals = totals.split(',')\n",
    "    n = []\n",
    "    for val in vals:\n",
    "        if val == vals[-1]:\n",
    "            t = int(val[1:-1])\n",
    "            n.append(t)\n",
    "        else:\n",
    "            t = int(val[1:])\n",
    "            n.append(t)\n",
    "    return n\n",
    "\n",
    "def dollageage_to_y(age):\n",
    "    age_q = age*12/12\n",
    "    return age_q\n",
    "\n",
    "#input a list of monthly revenues for a song. If any are 0, return 1 to mark bad data\n",
    "def check_bad_totals(song_totals_list):\n",
    "    tots_check = [a for a in song_totals_list if a<=0]\n",
    "    if len(tots_check)>0:\n",
    "        return 1\n",
    "    return 0\n",
    "    \n",
    "#input totals data for a song and convert into a list with data\n",
    "#(list of quart. revenues, list of %change from q_over_q, list of quart. revenues with start point 100)\n",
    "def song_yearly_data(totals, dates_of_revenue):\n",
    "    song_totals_list = stringrevenues_to_numbers(totals)\n",
    "    \n",
    "    if check_bad_totals(song_totals_list)==1:\n",
    "        return []\n",
    "    \n",
    "    y_num = math.floor((dates_of_revenue[-1]-dates_of_revenue[0])/12)\n",
    "    m_start = dates_of_revenue[0]\n",
    "    y_data = []\n",
    "    for i in range(y_num):\n",
    "        months = [m_start+12*i,m_start+12*i+1, m_start+12*i+2,\n",
    "                  m_start+12*i+3,m_start+12*i+4, m_start+12*i+5,\n",
    "                  m_start+12*i+6,m_start+12*i+7, m_start+12*i+8,\n",
    "                  m_start+12*i+9,m_start+12*i+10, m_start+12*i+11]\n",
    "        inds = [dates_of_revenue.index(m) for m in months if m in dates_of_revenue]\n",
    "        y_tot = np.sum([song_totals_list[ind] for ind in inds])\n",
    "        y_data.append(y_tot)\n",
    "    \n",
    "    if check_bad_totals(y_data)==1:\n",
    "        return []\n",
    "    \n",
    "    yoy_change = [y_data[i+1]/y_data[i]-1 for i in range(y_num-1)]\n",
    "    y_data_100 = [i/y_data[0]*100 for i in y_data]\n",
    "    return (y_data, yoy_change, y_data_100)\n",
    "\n",
    "#Transforms data table into a workable list\n",
    "#Return two lists with identical structure - songs with full data and song with broken revenue records\n",
    "#Each song entry has (id, dollar age in quarters, revenue dates in months since 2000, list of quarterly data, name)\n",
    "#List of quarterly data for a song is empty for broken revenue records and has following data for non-broken songs\n",
    "#(list of quart. revenues, list of %change from q_over_q, list of quart. revenues with start point 100)\n",
    "def df_to_database(data):\n",
    "    database = []\n",
    "    bad_songs = []\n",
    "    num_songs = data.shape[0]\n",
    "    for song_id in range(num_songs):\n",
    "        name = data.iloc[song_id,0]\n",
    "        dollar_age = data.iloc[song_id,1]\n",
    "        dates_of_revenue = data.iloc[song_id,4]\n",
    "        totals = data.iloc[song_id,5]\n",
    "        \n",
    "        dor_processed = stringdate_to_month(dates_of_revenue)\n",
    "        dollar_age_processed = dollageage_to_y(dollar_age)\n",
    "        revenuedata_processed = song_yearly_data(totals, dor_processed)\n",
    "        \n",
    "        if len(revenuedata_processed)>0:\n",
    "            database.append([song_id, dollar_age_processed, dor_processed, revenuedata_processed, name])\n",
    "        else:\n",
    "            bad_songs.append([song_id, dollar_age_processed, dor_processed, revenuedata_processed, name])\n",
    "    return (database, bad_songs)   \n",
    "\n",
    "#Output predicted quarterly performance for a list of songs\n",
    "#Prediction is made but taking the decile performance for a given quarter\n",
    "#If no input is given, mean value is taken and weighted by total revenues for a quarter\n",
    "#A minimum number of songs is required to analyze a quarter. If there are less than q_limit songs for a quarter, abort\n",
    "def deciled_yoy_performance(songs_data, decile=-1, n_limit=25, weighted=-1):\n",
    "    observations = len(songs_data)\n",
    "    y_performance = []\n",
    "    if observations<n_limit:\n",
    "        print('Not enough data even for one quarter')\n",
    "        return 0\n",
    "    \n",
    "    while observations>=n_limit:\n",
    "        current_y = len(y_performance)\n",
    "        relevant_songs = [song for song in songs_data if len(song[3][1])>current_y]\n",
    "        current_revenues = [song[3][0][current_y] for song in relevant_songs]\n",
    "        current_changes_forward = [song[3][1][current_y] for song in relevant_songs]\n",
    "        if decile==-1 and weighted==-1:\n",
    "            current_performance = np.sum([current_changes_forward[i]*current_revenues[i]/sum(current_revenues) \n",
    "                                       for i in range(len(current_changes_forward))])\n",
    "        else:\n",
    "            if decile==-1:\n",
    "                current_performance = np.mean(current_changes_forward)\n",
    "                \n",
    "        if decile!=-1:\n",
    "            current_performance = np.percentile(current_changes_forward, decile)\n",
    "            \n",
    "        y_performance.append([len(y_performance)+1, observations, current_performance])\n",
    "        observations = len(relevant_songs)\n",
    "                              \n",
    "        \n",
    "    return y_performance\n",
    "\n",
    "#Removes all songs with discrepancy between dollar age and revenue age is above the limit\n",
    "#Input database as a database of songs in the format from df_to_database function\n",
    "#input limit as a decimal that indicates how many percent away can RA be away from DA\n",
    "def clean_da_vs_ra(database, limit):\n",
    "    new_database = []\n",
    "    for song in database:\n",
    "        da = song[1] #dollar age in quarters\n",
    "        ra = (song[2][-1]-song[2][0])/12\n",
    "        if da*(1-limit)<ra and ra<da*(1+limit):\n",
    "            new_database.append(song)\n",
    "    return new_database\n",
    "\n",
    "#input song in standard format and get a list of revenues divided by y1 revenue\n",
    "def y1_rev_share(song):\n",
    "    revenues = song[3][2]\n",
    "    adjusted_revs = [rev/100 for rev in revenues]\n",
    "    return adjusted_revs\n",
    "\n",
    "#input annual revenues as a list and dollar age in years\n",
    "def adjust_rev_for_da(revenues, da_y):\n",
    "    da_y = np.round(da_y)\n",
    "    start_dollar_age = da_y-len(revenues)+1\n",
    "    da_indexing = [start_dollar_age+i for i in range(len(revenues))]\n",
    "    return da_indexing\n",
    "\n",
    "def yearly_performance_shareofLTM(songs, da_y_target, contract_len_years):\n",
    "    if da_y_target<1:\n",
    "        print('Song is too young!')\n",
    "        return 0\n",
    "    \n",
    "    relevant_data = []\n",
    "    for song in songs:\n",
    "        da_y = song[1]\n",
    "        adjusted_revenues = y1_rev_share(song)\n",
    "        da_indexing = adjust_rev_for_da(adjusted_revenues, da_y)\n",
    "        if da_y_target in da_indexing and (da_y_target+1) in da_indexing:\n",
    "            s = da_indexing.index(da_y_target)\n",
    "            LTM = adjusted_revenues[s]\n",
    "            rest = [a_rev/LTM for a_rev in adjusted_revenues[s+1:]]\n",
    "            relevant_data.append(rest)\n",
    "            \n",
    "    ann_averages = []\n",
    "    for i in range(contract_len_years):\n",
    "        performances = [rd[i] for rd in relevant_data if len(rd)>i]\n",
    "        if len(performances)>0:\n",
    "            mean_performance = np.mean(performances)\n",
    "            min_p = np.min(performances)\n",
    "            max_p = np.max(performances)\n",
    "            median_p = np.median(performances)\n",
    "            t_90 = np.percentile(performances, 90)\n",
    "            t_10 = np.percentile(performances, 10)\n",
    "            ann_averages.append([i+1,len(performances),mean_performance, median_p, t_90, t_10])\n",
    "        else:\n",
    "            ann_averages.append([i+1,0,0])\n",
    "    return (ann_averages, relevant_data)\n",
    "    \n",
    "#input song data and dollar age in quarters for which to calculate multiplier\n",
    "def calc_multiplier(songs, da_y_target,annual_r, contract_len_years):\n",
    "    if da_y_target<1:\n",
    "        print('Song is too young!')\n",
    "        return 0\n",
    "    \n",
    "    relevant_data = []\n",
    "    for song in songs:\n",
    "        da_y = song[1]\n",
    "        adjusted_revenues = y1_rev_share(song)\n",
    "        da_indexing = adjust_rev_for_da(adjusted_revenues, da_y)\n",
    "        if da_y_target in da_indexing and (da_y_target+1) in da_indexing:\n",
    "            s = da_indexing.index(da_y_target)\n",
    "            LTM = adjusted_revenues[s]\n",
    "            rest = [a_rev/LTM for a_rev in adjusted_revenues[s+1:]]\n",
    "            relevant_data.append(rest)\n",
    "            \n",
    "    ann_averages = []\n",
    "    for i in range(int(contract_len_years)):\n",
    "        performances = [rd[i] for rd in relevant_data if len(rd)>i]\n",
    "        if len(performances)>0:\n",
    "            mean_performance = np.mean(performances)\n",
    "            ann_averages.append([i+1,len(performances),mean_performance])\n",
    "        else:\n",
    "            ann_averages.append([i+1,0,0])\n",
    "            if i == contract_len_years-1:\n",
    "                print('Insufficient data at for dollar age', da_y_target)\n",
    "    q_r = annual_r/4\n",
    "    m = np.sum([ann_averages[i][2]/np.power(1+q_r,i+1) for i in range(int(contract_len_years))])\n",
    "    return m\n",
    "\n",
    "#input song data and dollar age in quarters for which to calculate multiplier\n",
    "def calc_multiplier_perc(songs, da_y_target,annual_r, contract_len_years, p = 50):\n",
    "    if da_y_target<1:\n",
    "        print('Song is too young!')\n",
    "        return 0\n",
    "    \n",
    "    relevant_data = []\n",
    "    for song in songs:\n",
    "        da_y = song[1]\n",
    "        adjusted_revenues = y1_rev_share(song)\n",
    "        da_indexing = adjust_rev_for_da(adjusted_revenues, da_y)\n",
    "        if da_y_target in da_indexing and (da_y_target+1) in da_indexing:\n",
    "            s = da_indexing.index(da_y_target)\n",
    "            LTM = adjusted_revenues[s]\n",
    "            rest = [a_rev/LTM for a_rev in adjusted_revenues[s+1:]]\n",
    "            relevant_data.append(rest)\n",
    "            \n",
    "    ann_averages = []\n",
    "    for i in range(int(contract_len_years)):\n",
    "        performances = [rd[i] for rd in relevant_data if len(rd)>i]\n",
    "        if len(performances)>0:\n",
    "            mean_performance = np.percentile(performances, p)\n",
    "            ann_averages.append([i+1,len(performances),mean_performance])\n",
    "        else:\n",
    "            ann_averages.append([i+1,0,0])\n",
    "            if i == contract_len_years-1:\n",
    "                print('Insufficient data at for dollar age', da_y_target)\n",
    "    q_r = annual_r/4\n",
    "    m = np.sum([ann_averages[i][2]/np.power(1+q_r,i+1) for i in range(int(contract_len_years))])\n",
    "    return m"
   ]
  },
  {
   "cell_type": "code",
   "execution_count": 162,
   "metadata": {},
   "outputs": [
    {
     "data": {
      "text/plain": [
       "223"
      ]
     },
     "execution_count": 162,
     "metadata": {},
     "output_type": "execute_result"
    }
   ],
   "source": [
    "database = df_to_database(data)[0]\n",
    "new_database = clean_da_vs_ra(database, 0.3)\n",
    "len(new_database)\n",
    "#database[0]"
   ]
  },
  {
   "cell_type": "code",
   "execution_count": 163,
   "metadata": {},
   "outputs": [],
   "source": [
    "#Reading multiplier observations from royalty exchange\n",
    "multi_observations = pd.read_csv('Catalog Pricer.csv',sep=';')\n",
    "#multi_observations['Time remaining'] #=10-multi_observations['Time remaining']"
   ]
  },
  {
   "cell_type": "code",
   "execution_count": 164,
   "metadata": {},
   "outputs": [
    {
     "data": {
      "text/html": [
       "<div>\n",
       "<style scoped>\n",
       "    .dataframe tbody tr th:only-of-type {\n",
       "        vertical-align: middle;\n",
       "    }\n",
       "\n",
       "    .dataframe tbody tr th {\n",
       "        vertical-align: top;\n",
       "    }\n",
       "\n",
       "    .dataframe thead th {\n",
       "        text-align: right;\n",
       "    }\n",
       "</style>\n",
       "<table border=\"1\" class=\"dataframe\">\n",
       "  <thead>\n",
       "    <tr style=\"text-align: right;\">\n",
       "      <th></th>\n",
       "      <th>Time remaining</th>\n",
       "      <th>$ age</th>\n",
       "      <th>list price multiplier</th>\n",
       "      <th>highest open offer multiplier</th>\n",
       "    </tr>\n",
       "  </thead>\n",
       "  <tbody>\n",
       "    <tr>\n",
       "      <th>0</th>\n",
       "      <td>0</td>\n",
       "      <td>7,06</td>\n",
       "      <td>5,88304506</td>\n",
       "      <td>NaN</td>\n",
       "    </tr>\n",
       "    <tr>\n",
       "      <th>1</th>\n",
       "      <td>0</td>\n",
       "      <td>2,5</td>\n",
       "      <td>7,05649904</td>\n",
       "      <td>NaN</td>\n",
       "    </tr>\n",
       "    <tr>\n",
       "      <th>2</th>\n",
       "      <td>0,21</td>\n",
       "      <td>11</td>\n",
       "      <td>NaN</td>\n",
       "      <td>4,71773522</td>\n",
       "    </tr>\n",
       "    <tr>\n",
       "      <th>3</th>\n",
       "      <td>0,24</td>\n",
       "      <td>5,94</td>\n",
       "      <td>8,809095</td>\n",
       "      <td>4,49572265</td>\n",
       "    </tr>\n",
       "    <tr>\n",
       "      <th>4</th>\n",
       "      <td>0,24</td>\n",
       "      <td>18,62</td>\n",
       "      <td>NaN</td>\n",
       "      <td>4,01876091</td>\n",
       "    </tr>\n",
       "  </tbody>\n",
       "</table>\n",
       "</div>"
      ],
      "text/plain": [
       "  Time remaining  $ age list price multiplier highest open offer multiplier\n",
       "0              0   7,06            5,88304506                           NaN\n",
       "1              0    2,5            7,05649904                           NaN\n",
       "2           0,21     11                   NaN                    4,71773522\n",
       "3           0,24   5,94              8,809095                    4,49572265\n",
       "4           0,24  18,62                   NaN                    4,01876091"
      ]
     },
     "execution_count": 164,
     "metadata": {},
     "output_type": "execute_result"
    }
   ],
   "source": [
    "multi_observations.head()"
   ]
  },
  {
   "cell_type": "code",
   "execution_count": 165,
   "metadata": {},
   "outputs": [],
   "source": [
    "#Reading multiplier observations from royalty exchange\n",
    "multi_observations = pd.read_csv('CatalogBidsAsks.csv',sep=',')\n",
    "#multi_observations['Time remaining'] #=10-multi_observations['Time remaining']"
   ]
  },
  {
   "cell_type": "code",
   "execution_count": 166,
   "metadata": {},
   "outputs": [
    {
     "data": {
      "text/html": [
       "<div>\n",
       "<style scoped>\n",
       "    .dataframe tbody tr th:only-of-type {\n",
       "        vertical-align: middle;\n",
       "    }\n",
       "\n",
       "    .dataframe tbody tr th {\n",
       "        vertical-align: top;\n",
       "    }\n",
       "\n",
       "    .dataframe thead th {\n",
       "        text-align: right;\n",
       "    }\n",
       "</style>\n",
       "<table border=\"1\" class=\"dataframe\">\n",
       "  <thead>\n",
       "    <tr style=\"text-align: right;\">\n",
       "      <th></th>\n",
       "      <th>age</th>\n",
       "      <th>Time past</th>\n",
       "      <th>name</th>\n",
       "      <th>ltm</th>\n",
       "      <th>$ age</th>\n",
       "      <th>dirty ask</th>\n",
       "      <th>dirty bid</th>\n",
       "      <th>ask</th>\n",
       "      <th>bid</th>\n",
       "      <th>list price multiplier</th>\n",
       "      <th>highest open offer multiplier</th>\n",
       "    </tr>\n",
       "  </thead>\n",
       "  <tbody>\n",
       "    <tr>\n",
       "      <th>0</th>\n",
       "      <td>10.00</td>\n",
       "      <td>0.00</td>\n",
       "      <td>Songwriter Royalties - Hamza Namira &amp; Maher Zain</td>\n",
       "      <td>25497.0</td>\n",
       "      <td>7.06</td>\n",
       "      <td>$150,0005.88 x LTM</td>\n",
       "      <td>------</td>\n",
       "      <td>$150,000</td>\n",
       "      <td>0</td>\n",
       "      <td>5.883045</td>\n",
       "      <td>NaN</td>\n",
       "    </tr>\n",
       "    <tr>\n",
       "      <th>1</th>\n",
       "      <td>10.00</td>\n",
       "      <td>0.00</td>\n",
       "      <td>Songwriter Royalties - BTS, Eric Bellinger + More</td>\n",
       "      <td>21257.0</td>\n",
       "      <td>2.50</td>\n",
       "      <td>$150,0007.06 x LTM</td>\n",
       "      <td>------</td>\n",
       "      <td>$150,000</td>\n",
       "      <td>0</td>\n",
       "      <td>7.056499</td>\n",
       "      <td>NaN</td>\n",
       "    </tr>\n",
       "    <tr>\n",
       "      <th>2</th>\n",
       "      <td>9.79</td>\n",
       "      <td>0.21</td>\n",
       "      <td>Platinum Hit \"Rompe\" by Daddy Yankee</td>\n",
       "      <td>1201.0</td>\n",
       "      <td>11.00</td>\n",
       "      <td>------</td>\n",
       "      <td>$5,6664.72 x LTM</td>\n",
       "      <td>0</td>\n",
       "      <td>$5,666</td>\n",
       "      <td>NaN</td>\n",
       "      <td>4.717735</td>\n",
       "    </tr>\n",
       "    <tr>\n",
       "      <th>3</th>\n",
       "      <td>9.76</td>\n",
       "      <td>0.24</td>\n",
       "      <td>Film/TV Music: Austin And Ally, Four Weddings,...</td>\n",
       "      <td>2221.0</td>\n",
       "      <td>5.94</td>\n",
       "      <td>$19,5658.81 x LTM</td>\n",
       "      <td>$9,9854.50 x LTM</td>\n",
       "      <td>$19,565</td>\n",
       "      <td>$9,985</td>\n",
       "      <td>8.809095</td>\n",
       "      <td>4.495723</td>\n",
       "    </tr>\n",
       "    <tr>\n",
       "      <th>4</th>\n",
       "      <td>9.76</td>\n",
       "      <td>0.24</td>\n",
       "      <td>\"Do U?\" by Do Or Die ft. Twista &amp; Johnny P</td>\n",
       "      <td>2292.0</td>\n",
       "      <td>18.62</td>\n",
       "      <td>------</td>\n",
       "      <td>$9,2114.02 x LTM</td>\n",
       "      <td>0</td>\n",
       "      <td>$9,211</td>\n",
       "      <td>NaN</td>\n",
       "      <td>4.018761</td>\n",
       "    </tr>\n",
       "  </tbody>\n",
       "</table>\n",
       "</div>"
      ],
      "text/plain": [
       "     age  Time past                                               name  \\\n",
       "0  10.00       0.00   Songwriter Royalties - Hamza Namira & Maher Zain   \n",
       "1  10.00       0.00  Songwriter Royalties - BTS, Eric Bellinger + More   \n",
       "2   9.79       0.21               Platinum Hit \"Rompe\" by Daddy Yankee   \n",
       "3   9.76       0.24  Film/TV Music: Austin And Ally, Four Weddings,...   \n",
       "4   9.76       0.24         \"Do U?\" by Do Or Die ft. Twista & Johnny P   \n",
       "\n",
       "       ltm  $ age           dirty ask         dirty bid       ask     bid  \\\n",
       "0  25497.0   7.06  $150,0005.88 x LTM            ------  $150,000       0   \n",
       "1  21257.0   2.50  $150,0007.06 x LTM            ------  $150,000       0   \n",
       "2   1201.0  11.00              ------  $5,6664.72 x LTM         0  $5,666   \n",
       "3   2221.0   5.94   $19,5658.81 x LTM  $9,9854.50 x LTM   $19,565  $9,985   \n",
       "4   2292.0  18.62              ------  $9,2114.02 x LTM         0  $9,211   \n",
       "\n",
       "   list price multiplier  highest open offer multiplier  \n",
       "0               5.883045                            NaN  \n",
       "1               7.056499                            NaN  \n",
       "2                    NaN                       4.717735  \n",
       "3               8.809095                       4.495723  \n",
       "4                    NaN                       4.018761  "
      ]
     },
     "execution_count": 166,
     "metadata": {},
     "output_type": "execute_result"
    }
   ],
   "source": [
    "multi_observations.head()"
   ]
  },
  {
   "cell_type": "code",
   "execution_count": 167,
   "metadata": {},
   "outputs": [],
   "source": [
    "young_songs=(multi_observations[multi_observations['$ age']<8])"
   ]
  },
  {
   "cell_type": "code",
   "execution_count": 172,
   "metadata": {},
   "outputs": [],
   "source": [
    "old_songs=(multi_observations[multi_observations['$ age']>=8]) # and (multi_observations[multi_observations['$ age']>=8])"
   ]
  },
  {
   "cell_type": "code",
   "execution_count": 185,
   "metadata": {
    "collapsed": true
   },
   "outputs": [],
   "source": [
    "bids=multi_observations[multi_observations['highest open offer multiplier']<20]"
   ]
  },
  {
   "cell_type": "code",
   "execution_count": 186,
   "metadata": {
    "collapsed": true
   },
   "outputs": [],
   "source": [
    "asks=multi_observations[multi_observations['list price multiplier']<20]"
   ]
  },
  {
   "cell_type": "code",
   "execution_count": 187,
   "metadata": {},
   "outputs": [
    {
     "data": {
      "text/plain": [
       "[<matplotlib.lines.Line2D at 0x1c28930860>]"
      ]
     },
     "execution_count": 187,
     "metadata": {},
     "output_type": "execute_result"
    },
    {
     "data": {
      "image/png": "[encoded data removed]",
      "text/plain": [
       "<matplotlib.figure.Figure at 0x1c288514a8>"
      ]
     },
     "metadata": {},
     "output_type": "display_data"
    }
   ],
   "source": [
    "plt.plot(bids['Time past'],bids['highest open offer multiplier'], '*')\n",
    "plt.plot(asks['Time past'],asks['list price multiplier'], '*')\n"
   ]
  },
  {
   "cell_type": "code",
   "execution_count": 188,
   "metadata": {
    "collapsed": true
   },
   "outputs": [],
   "source": [
    "bids_young=young_songs[['Time past', 'highest open offer multiplier']][young_songs['highest open offer multiplier']<20]"
   ]
  },
  {
   "cell_type": "code",
   "execution_count": 189,
   "metadata": {
    "collapsed": true
   },
   "outputs": [],
   "source": [
    "asks_young=young_songs[['Time past','list price multiplier']][young_songs['list price multiplier']<20]"
   ]
  },
  {
   "cell_type": "code",
   "execution_count": 190,
   "metadata": {
    "collapsed": true
   },
   "outputs": [],
   "source": [
    "bids_cheap=young_songs[['Time past', 'highest open offer multiplier']][young_songs['ltm']<2000]"
   ]
  },
  {
   "cell_type": "code",
   "execution_count": 191,
   "metadata": {
    "collapsed": true
   },
   "outputs": [],
   "source": [
    "asks_cheap=young_songs[['Time past','list price multiplier']][young_songs['ltm']<2000]"
   ]
  },
  {
   "cell_type": "code",
   "execution_count": 192,
   "metadata": {
    "collapsed": true
   },
   "outputs": [],
   "source": [
    "bids_old=old_songs[['Time past', 'highest open offer multiplier']][old_songs['highest open offer multiplier']<20]"
   ]
  },
  {
   "cell_type": "code",
   "execution_count": 193,
   "metadata": {},
   "outputs": [],
   "source": [
    "asks_old=old_songs[['Time past','list price multiplier']][old_songs['list price multiplier']<20]"
   ]
  },
  {
   "cell_type": "code",
   "execution_count": 194,
   "metadata": {},
   "outputs": [
    {
     "data": {
      "text/plain": [
       "[<matplotlib.lines.Line2D at 0x1c28a41208>]"
      ]
     },
     "execution_count": 194,
     "metadata": {},
     "output_type": "execute_result"
    },
    {
     "data": {
      "image/png": "[encoded data removed]",
      "text/plain": [
       "<matplotlib.figure.Figure at 0x1c2894cda0>"
      ]
     },
     "metadata": {},
     "output_type": "display_data"
    }
   ],
   "source": [
    "plt.plot(bids_young['Time past'],bids_young['highest open offer multiplier'], '*')\n",
    "plt.plot(asks_young['Time past'],asks_young['list price multiplier'], '*')\n",
    "plt.plot(bids_old['Time past'],bids_old['highest open offer multiplier'], '*')\n",
    "plt.plot(asks_old['Time past'],asks_old['list price multiplier'], '*')\n",
    "#plt.ylim([0,20])"
   ]
  },
  {
   "cell_type": "code",
   "execution_count": 195,
   "metadata": {
    "collapsed": true
   },
   "outputs": [],
   "source": [
    "def convert_obs(obs):\n",
    "    if type(obs)!=type('a'):\n",
    "        return float(obs)\n",
    "    vals = obs.split(',')\n",
    "    if len(vals)>1:\n",
    "        d = vals[0]+'.'+vals[1]\n",
    "    else:\n",
    "        d = vals[0]\n",
    "    return float(d)"
   ]
  },
  {
   "cell_type": "code",
   "execution_count": 196,
   "metadata": {},
   "outputs": [
    {
     "name": "stdout",
     "output_type": "stream",
     "text": [
      "Expected share of LTM revenue for future years for a song of age 7 years\n"
     ]
    }
   ],
   "source": [
    "#Input dollar age of interest\n",
    "age_y = 7\n",
    "#Input number of years to look for\n",
    "r = 7\n",
    "perfs = yearly_performance_shareofLTM(new_database, age_y, 10)\n",
    "print('Expected share of LTM revenue for future years for a song of age', age_y,'years')"
   ]
  },
  {
   "cell_type": "code",
   "execution_count": 209,
   "metadata": {},
   "outputs": [
    {
     "name": "stdout",
     "output_type": "stream",
     "text": [
      "Song of age 7 years - 90th, 50th, 10th percentiles share\n"
     ]
    },
    {
     "data": {
      "text/plain": [
       "<matplotlib.text.Text at 0x1c2ad76ba8>"
      ]
     },
     "execution_count": 209,
     "metadata": {},
     "output_type": "execute_result"
    },
    {
     "data": {
      "image/png": "[encoded data removed]",
      "text/plain": [
       "<matplotlib.figure.Figure at 0x1c2acbb550>"
      ]
     },
     "metadata": {},
     "output_type": "display_data"
    }
   ],
   "source": [
    "print('Song of age',age_y,'years - 90th, 50th, 10th percentiles share')\n",
    "median_data = [p[3] for p in perfs[0]]\n",
    "t90_data = [p[4] for p in perfs[0]]\n",
    "t10_data = [p[5] for p in perfs[0]]\n",
    "#plt.plot(mean_data[:20])\n",
    "r = 10\n",
    "plt.plot(range(1,r+1), median_data[:r],label='Median growth')\n",
    "plt.plot(range(1,r+1), t90_data[:r],label='Top songs growth')\n",
    "plt.plot(range(1,r+1), t10_data[:r],label='Bottom songs growth')\n",
    "plt.plot(range(1,r+1), [1]*r)\n",
    "plt.legend()\n",
    "x_name = 'Years past year '+str(age_y)\n",
    "y_name = 'Share of year '+str(age_y)+' revenue'\n",
    "plt.xlabel(x_name)\n",
    "plt.ylabel(y_name)"
   ]
  },
  {
   "cell_type": "code",
   "execution_count": 207,
   "metadata": {},
   "outputs": [
    {
     "name": "stdout",
     "output_type": "stream",
     "text": [
      "10Y contract Multiplier calculation - 90th, 50th, 10th percentiles\n"
     ]
    },
    {
     "data": {
      "image/png": "[encoded data removed]",
      "text/plain": [
       "<matplotlib.figure.Figure at 0x1c2a6ca780>"
      ]
     },
     "metadata": {},
     "output_type": "display_data"
    }
   ],
   "source": [
    "#Produce a graph for a multiplier for a 10y contract\n",
    "multis_median = []\n",
    "multis_top10 = []\n",
    "multis_top90 = []\n",
    "mutltis_print = []\n",
    "for target_da in range(5, 10):\n",
    "    median_app = calc_multiplier_perc(new_database, target_da, 0.098, 10, 50)\n",
    "    t10_app = calc_multiplier_perc(new_database, target_da, 0.098, 10, 10)\n",
    "    t90_app = calc_multiplier_perc(new_database, target_da, 0.098, 10, 90)\n",
    "    multis_median.append(median_app)\n",
    "    multis_top10.append(t10_app)\n",
    "    multis_top90.append(t90_app)\n",
    "\n",
    "print('10Y contract Multiplier calculation - 90th, 50th, 10th percentiles')\n",
    "plt.plot(range(5,10), multis_median,label='Median songs cashflows')\n",
    "plt.plot(range(5,10), multis_top90,label='Top songs cashflows')\n",
    "plt.plot(range(5,10), multis_top10,label='Bottom songs cashflows')\n",
    "plt.xlabel('Dollar age in years')\n",
    "plt.ylabel('Multiplier for 10y')\n",
    "plt.legend()\n",
    "plt.show()"
   ]
  },
  {
   "cell_type": "code",
   "execution_count": 199,
   "metadata": {
    "collapsed": true
   },
   "outputs": [],
   "source": [
    "#Produce a graph for a multiplier for a 10y contract as it ages \n",
    "multis_median = []\n",
    "multis_top10 = []\n",
    "multis_top90 = []\n",
    "initial_age_years = 7\n",
    "#relevant_obs_x = [obs[0] for obs in observations if obs[1]==initial_age_years]\n",
    "#relevant_obs_y = [obs[2] for obs in observations if obs[1]==initial_age_years]"
   ]
  },
  {
   "cell_type": "code",
   "execution_count": 208,
   "metadata": {},
   "outputs": [
    {
     "name": "stdout",
     "output_type": "stream",
     "text": [
      "Multiplier for the remainder of the 10Y contract for a song of initial age 7 - 90th, 50th, 10th percentiles\n"
     ]
    },
    {
     "data": {
      "text/plain": [
       "<matplotlib.text.Text at 0x1c2a968828>"
      ]
     },
     "execution_count": 208,
     "metadata": {},
     "output_type": "execute_result"
    },
    {
     "data": {
      "image/png": "[encoded data removed]",
      "text/plain": [
       "<matplotlib.figure.Figure at 0x1c2a938b38>"
      ]
     },
     "metadata": {},
     "output_type": "display_data"
    }
   ],
   "source": [
    "plt.figure()\n",
    "multis_median=[]\n",
    "multis_top10=[]\n",
    "multis_top90=[]\n",
    "\n",
    "for target_da in range(11):\n",
    "    median_data = calc_multiplier_perc(new_database, initial_age_years+target_da, 0.098, 10-target_da, 50)\n",
    "    t90_data = calc_multiplier_perc(new_database, initial_age_years+target_da, 0.098, 10-target_da, 90)\n",
    "    t10_data = calc_multiplier_perc(new_database, initial_age_years+target_da, 0.098, 10-target_da, 10)\n",
    "    multis_median.append(median_data)\n",
    "    multis_top10.append(t10_data)\n",
    "    multis_top90.append(t90_data)\n",
    "\n",
    "print('Multiplier for the remainder of the 10Y contract for a song of initial age', initial_age_years, '- 90th, 50th, 10th percentiles')\n",
    "plt.plot(multis_median,label='median songs')\n",
    "plt.plot(multis_top90,label='top songs')\n",
    "plt.plot(multis_top10,label='bottom songs')\n",
    "plt.plot(bids['Time past'],bids['highest open offer multiplier'], '*')\n",
    "plt.plot(asks['Time past'],asks['list price multiplier'], '*')\n",
    "plt.ylim([0,40])\n",
    "plt.legend()\n",
    "#plt.plot(relevant_obs_x, relevant_obs_y, 'x')\n",
    "plt.xlabel('Years of contract passed')\n",
    "plt.ylabel('Multiplier')\n"
   ]
  },
  {
   "cell_type": "code",
   "execution_count": 26,
   "metadata": {},
   "outputs": [
    {
     "name": "stdout",
     "output_type": "stream",
     "text": [
      "[10.0, 8.0, 8.0, 7.0, 7.0, 7.0, 7.0, 7.0, 6.0, 6.0]\n",
      "[5.88304506, 8.46721773, 6.37293109, 5.90044343, 68.0933852, 3.60385925, 2.59878696, 3.35471434, 22.1828571, 8.07897394]\n"
     ]
    }
   ],
   "source": [
    "print(relevant_obs_x)\n",
    "print(relevant_obs_y)"
   ]
  },
  {
   "cell_type": "code",
   "execution_count": null,
   "metadata": {
    "collapsed": true
   },
   "outputs": [],
   "source": [
    "#Notes - filter songs by dollar age vs actual age \n",
    "#Log revenue (small songs blow up more likely?)\n",
    "#Multiplier? 10-year\n",
    "#Blow up?\n",
    "#8,5% annual discount rate"
   ]
  },
  {
   "cell_type": "code",
   "execution_count": null,
   "metadata": {
    "collapsed": true
   },
   "outputs": [],
   "source": []
  }
 ],
 "metadata": {
  "kernelspec": {
   "display_name": "Python 3",
   "language": "python",
   "name": "python3"
  },
  "language_info": {
   "codemirror_mode": {
    "name": "ipython",
    "version": 3
   },
   "file_extension": ".py",
   "mimetype": "text/x-python",
   "name": "python",
   "nbconvert_exporter": "python",
   "pygments_lexer": "ipython3",
   "version": "3.6.9"
  },
  "vscode": {
   "interpreter": {
    "hash": "aee8b7b246df8f9039afb4144a1f6fd8d2ca17a180786b69acc140d282b71a49"
   }
  }
 },
 "nbformat": 4,
 "nbformat_minor": 2
}
